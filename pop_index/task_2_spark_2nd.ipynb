{
 "cells": [
  {
   "cell_type": "code",
   "execution_count": 1,
   "metadata": {},
   "outputs": [
    {
     "data": {
      "text/plain": "<IPython.core.display.HTML object>",
      "text/html": "<style>pre { white-space: pre !important; }</style>"
     },
     "metadata": {},
     "output_type": "display_data"
    }
   ],
   "source": [
    "from pyspark.sql import functions as F\n",
    "from pyspark.sql import SparkSession\n",
    "from pyspark.sql.functions import *\n",
    "import plotly.express as px\n",
    "from IPython.core.display import HTML\n",
    "display(HTML(\"<style>pre { white-space: pre !important; }</style>\"))"
   ]
  },
  {
   "cell_type": "code",
   "execution_count": 2,
   "metadata": {},
   "outputs": [
    {
     "name": "stdout",
     "output_type": "stream",
     "text": [
      "22/12/09 17:21:50 WARN Utils: Your hostname, MacBook-Pro-di-Vincenzo.local resolves to a loopback address: 127.0.0.1; using 172.20.25.108 instead (on interface en0)\n",
      "22/12/09 17:21:50 WARN Utils: Set SPARK_LOCAL_IP if you need to bind to another address\n"
     ]
    },
    {
     "name": "stderr",
     "output_type": "stream",
     "text": [
      "Setting default log level to \"WARN\".\n",
      "To adjust logging level use sc.setLogLevel(newLevel). For SparkR, use setLogLevel(newLevel).\n"
     ]
    },
    {
     "name": "stdout",
     "output_type": "stream",
     "text": [
      "22/12/09 17:21:51 WARN NativeCodeLoader: Unable to load native-hadoop library for your platform... using builtin-java classes where applicable\n",
      "22/12/09 17:21:52 WARN Utils: Service 'SparkUI' could not bind on port 4040. Attempting port 4041.\n"
     ]
    },
    {
     "name": "stderr",
     "output_type": "stream",
     "text": [
      "                                                                                \r"
     ]
    }
   ],
   "source": [
    "# Create the Spark Session\n",
    "spark = SparkSession.builder\\\n",
    "        .master(\"local\")\\\n",
    "        .appName(\"Alkemy\")\\\n",
    "        .getOrCreate()\n",
    "spark\n",
    "\n",
    "# Import the dataset\n",
    "df = spark.read.csv(\"sales_data_all.csv\", header=True, inferSchema=True)\n",
    "\n",
    "# Create the quarter column based on date\n",
    "df = df.withColumn(\"quarter\", quarter(col(\"sale_date\")))\n",
    "\n",
    "# Calculate the profits\n",
    "df = df.withColumn('profit', (df.regular_price - df.purchase_price) * df.quantity)\n",
    "\n",
    "# Group by quarter and product id and sum quantities of products\n",
    "df = df.groupBy('quarter', 'product_id').agg(F.sum('quantity').alias('quantity'))"
   ]
  },
  {
   "cell_type": "code",
   "execution_count": 3,
   "outputs": [
    {
     "name": "stderr",
     "output_type": "stream",
     "text": [
      "                                                                                \r"
     ]
    },
    {
     "name": "stdout",
     "output_type": "stream",
     "text": [
      "+-------+----------+--------------------+--------------------+\n",
      "|quarter|product_id|           pop_index|      pop_index_perc|\n",
      "+-------+----------+--------------------+--------------------+\n",
      "|      1|    127592|2.574333891105676...|0.017964071856287428|\n",
      "|      1|    128705|0.001544600334663...| 0.11776447105788423|\n",
      "|      1|    139926|2.059467112884541...|0.013972055888223553|\n",
      "|      1|    156390|1.287166945552838...|0.007984031936127746|\n",
      "|      1|    151974|2.059467112884541...|0.013972055888223553|\n",
      "|      1|    159384|2.831767280216244...|0.019960079840319365|\n",
      "|      1|    142551|1.029733556442270...|0.005988023952095808|\n",
      "|      1|    109720|2.574333891105676...|                 0.0|\n",
      "|      1|    140759|7.723001673317029E-5|0.003992015968063872|\n",
      "|      1|    108936|2.316900501995109E-4| 0.01596806387225549|\n",
      "|      1|    154248|4.118934225769082...|0.029940119760479042|\n",
      "|      1|    157276|4.118934225769082...|0.029940119760479042|\n",
      "|      1|    144694|1.287166945552838...|0.007984031936127746|\n",
      "|      1|    160443|1.029733556442270...|0.005988023952095808|\n",
      "|      1|    148796|7.723001673317029E-5|0.003992015968063872|\n",
      "|      1|    159690|7.723001673317029E-5|0.003992015968063872|\n",
      "|      1|    139023|1.029733556442270...|0.005988023952095808|\n",
      "|      2|    141921|4.483713569827245E-4| 0.05947955390334572|\n",
      "|      2|    160151|7.912435711459844E-5|0.007434944237918215|\n",
      "|      2|    160467|1.582487142291968...| 0.01858736059479554|\n",
      "+-------+----------+--------------------+--------------------+\n",
      "only showing top 20 rows\n",
      "\n"
     ]
    }
   ],
   "source": [
    "# Workaround for partition-by\n",
    "def Fwhen(stringa, funzione):\n",
    "\n",
    "    # Execute groupBy quarter, changing the aggregating function and the column\n",
    "    exec(\"global temp; temp = df.groupBy('quarter').agg(F.{}('{}'))\".format(funzione, stringa))\n",
    "\n",
    "    # Sort the resulting dataset based on quarters\n",
    "    df_sum = temp.sort(temp.quarter.asc())\n",
    "\n",
    "    #Extract the sum/max/min of columns\n",
    "    value_list = df_sum.rdd.map(lambda x: x[1]).collect()\n",
    "\n",
    "    # For each quarter assign the respective values from value_list\n",
    "    df_sum = df.withColumn('{}_{}'.format(funzione, stringa),\n",
    "                           F.when((F.col(\"quarter\") == '1'),    value_list[0])\\\n",
    "                           .when((F.col(\"quarter\") == '2'),     value_list[1])\\\n",
    "                           .when((F.col(\"quarter\") == '3'),     value_list[2])\\\n",
    "                           .otherwise(value_list[3]))\n",
    "\n",
    "    return df_sum\n",
    "\n",
    "# Find the sum of quantities by quarter to calculate the popularity index == quantity / sum(quantity)\n",
    "df = Fwhen('quantity', 'sum')\n",
    "df = df.select('quarter', 'product_id', F.col('quantity') / F.col('sum_quantity'))\n",
    "df = df.withColumnRenamed(\"(quantity / sum_quantity)\", \"pop_index\")\n",
    "\n",
    "# Find the max of popularity by quarter to calculate the popularity index == quantity / sum(quantity)\n",
    "df = Fwhen('pop_index', 'max')\n",
    "\n",
    "# Find the min of popularity by quarter to calculate the popularity index == quantity / sum(quantity)\n",
    "df = Fwhen('pop_index', 'min')\n",
    "\n",
    "# Scale the popularity index and clean the dataframe\n",
    "df = df.withColumn('pop_index_perc', (df.pop_index - df.min_pop_index) / (df.max_pop_index - df.min_pop_index))\n",
    "df = df.drop(\"max_pop_index\", \"min_pop_index\")"
   ],
   "metadata": {
    "collapsed": false,
    "pycharm": {
     "name": "#%%\n"
    }
   }
  },
  {
   "cell_type": "code",
   "execution_count": 4,
   "metadata": {},
   "outputs": [
    {
     "name": "stdout",
     "output_type": "stream",
     "text": [
      "+----------+-------------------+\n",
      "|product_id|       sd_pop_index|\n",
      "+----------+-------------------+\n",
      "|    112582| 0.5539892756386005|\n",
      "|    110853|0.47662561703373113|\n",
      "|    110675| 0.3799399603595993|\n",
      "|    126707|  0.345275892846712|\n",
      "|    160952|0.34415898467118106|\n",
      "|    160649| 0.3045034473687332|\n",
      "|    150667|0.29558476805015993|\n",
      "|    156485|0.29336230550590225|\n",
      "|    106100|0.29217946230333314|\n",
      "|    131910| 0.2921512393217598|\n",
      "+----------+-------------------+\n",
      "only showing top 10 rows\n",
      "\n"
     ]
    }
   ],
   "source": [
    "# Group by product id and find the standard deviation for popularity index\n",
    "df_sd = df.groupBy(\"product_id\").agg(stddev(\"pop_index_perc\"))\n",
    "df_sd = df_sd.withColumnRenamed(\"stddev_samp(pop_index_perc)\", \"sd_pop_index\")\n",
    "\n",
    "# Sort the dataset based on st.dev. of popularity index\n",
    "df_sd = df_sd.sort(df_sd.sd_pop_index.desc())"
   ]
  },
  {
   "cell_type": "code",
   "execution_count": 5,
   "metadata": {},
   "outputs": [],
   "source": [
    "# Find the top 10 products whose popularity index changes over time\n",
    "## THEY'RE CANDIDATE SESONAL PRODUCTS ##\n",
    "prod_rank = df_sd.rdd.map(lambda x: x[0]).collect()\n",
    "prod_rank = prod_rank[0:10]"
   ]
  },
  {
   "cell_type": "code",
   "execution_count": 6,
   "metadata": {},
   "outputs": [
    {
     "name": "stdout",
     "output_type": "stream",
     "text": [
      "+-------+----------+--------------------+--------------------+\n",
      "|quarter|product_id|           pop_index|      pop_index_perc|\n",
      "+-------+----------+--------------------+--------------------+\n",
      "|      4|    131910|2.809665248454684E-4| 0.03757225433526012|\n",
      "|      1|    126707|1.029733556442270...|0.005988023952095808|\n",
      "|      2|    106100|0.004430963998417513|  0.6208178438661711|\n",
      "|      2|    156485|1.318739285243307...| 0.01486988847583643|\n",
      "|      4|    110675|0.005498916271975596|  0.7890173410404625|\n",
      "|      3|    110675|2.321681929575648...|0.022038567493112945|\n",
      "|      4|    110853|4.013807497792406E-5|0.002890173410404624|\n",
      "|      2|    126707|5.274957140973229...|0.003717472118959...|\n",
      "|      3|    150667|2.321681929575648...|0.022038567493112945|\n",
      "|      4|    126707|0.004856707072328811|  0.6965317919075146|\n",
      "|      1|    106100|1.544600334663405...|0.009980039920159679|\n",
      "|      2|    150667|0.003745219570090993|  0.5241635687732341|\n",
      "|      4|    112582|3.010355623344304...| 0.04046242774566474|\n",
      "|      4|    156485|0.004234566910170988|  0.6069364161849712|\n",
      "|      1|    110675|7.723001673317029E-5|0.003992015968063872|\n",
      "|      3|    106100|0.002915000644911647|  0.3085399449035812|\n",
      "|      1|    156485|2.316900501995109E-4| 0.01596806387225549|\n",
      "|      2|    160952|0.003507846498747198| 0.49070631970260226|\n",
      "|      3|    131910|4.643363859151296...| 0.04683195592286501|\n",
      "|      4|    160649|2.006903748896203E-5|                 0.0|\n",
      "+-------+----------+--------------------+--------------------+\n",
      "only showing top 20 rows\n",
      "\n",
      "Numbers of rows:  35\n"
     ]
    }
   ],
   "source": [
    "df_top = df.filter(F.col(\"product_id\").isin(prod_rank))\n",
    "df_top.show()\n",
    "print(\"Numbers of rows: \", df_top.count())"
   ]
  },
  {
   "cell_type": "code",
   "execution_count": 7,
   "metadata": {},
   "outputs": [],
   "source": [
    "df_plot = df_top.toPandas()"
   ]
  },
  {
   "cell_type": "code",
   "execution_count": 9,
   "metadata": {
    "pycharm": {
     "name": "#%%\n"
    }
   },
   "outputs": [
    {
     "data": {
      "application/vnd.plotly.v1+json": {
       "data": [
        {
         "hovertemplate": "product_id=131910<br>quarter=%{x}<br>pop_index_perc=%{y}<extra></extra>",
         "legendgroup": "131910",
         "line": {
          "color": "#636efa",
          "dash": "solid"
         },
         "marker": {
          "symbol": "circle"
         },
         "mode": "lines",
         "name": "131910",
         "orientation": "v",
         "showlegend": true,
         "x": [
          4,
          3,
          2,
          1
         ],
         "xaxis": "x",
         "y": [
          0.03757225433526012,
          0.04683195592286501,
          0.6505576208178439,
          0.13373253493013973
         ],
         "yaxis": "y",
         "type": "scatter"
        },
        {
         "hovertemplate": "product_id=126707<br>quarter=%{x}<br>pop_index_perc=%{y}<extra></extra>",
         "legendgroup": "126707",
         "line": {
          "color": "#EF553B",
          "dash": "solid"
         },
         "marker": {
          "symbol": "circle"
         },
         "mode": "lines",
         "name": "126707",
         "orientation": "v",
         "showlegend": true,
         "x": [
          1,
          2,
          4,
          3
         ],
         "xaxis": "x",
         "y": [
          0.005988023952095808,
          0.0037174721189591076,
          0.6965317919075146,
          0.008264462809917354
         ],
         "yaxis": "y",
         "type": "scatter"
        },
        {
         "hovertemplate": "product_id=106100<br>quarter=%{x}<br>pop_index_perc=%{y}<extra></extra>",
         "legendgroup": "106100",
         "line": {
          "color": "#00cc96",
          "dash": "solid"
         },
         "marker": {
          "symbol": "circle"
         },
         "mode": "lines",
         "name": "106100",
         "orientation": "v",
         "showlegend": true,
         "x": [
          2,
          1,
          3,
          4
         ],
         "xaxis": "x",
         "y": [
          0.6208178438661711,
          0.009980039920159679,
          0.3085399449035812,
          0.008670520231213872
         ],
         "yaxis": "y",
         "type": "scatter"
        },
        {
         "hovertemplate": "product_id=156485<br>quarter=%{x}<br>pop_index_perc=%{y}<extra></extra>",
         "legendgroup": "156485",
         "line": {
          "color": "#ab63fa",
          "dash": "solid"
         },
         "marker": {
          "symbol": "circle"
         },
         "mode": "lines",
         "name": "156485",
         "orientation": "v",
         "showlegend": true,
         "x": [
          2,
          4,
          1,
          3
         ],
         "xaxis": "x",
         "y": [
          0.01486988847583643,
          0.6069364161849712,
          0.01596806387225549,
          0.030303030303030297
         ],
         "yaxis": "y",
         "type": "scatter"
        },
        {
         "hovertemplate": "product_id=110675<br>quarter=%{x}<br>pop_index_perc=%{y}<extra></extra>",
         "legendgroup": "110675",
         "line": {
          "color": "#FFA15A",
          "dash": "solid"
         },
         "marker": {
          "symbol": "circle"
         },
         "mode": "lines",
         "name": "110675",
         "orientation": "v",
         "showlegend": true,
         "x": [
          4,
          3,
          1,
          2
         ],
         "xaxis": "x",
         "y": [
          0.7890173410404625,
          0.022038567493112945,
          0.003992015968063872,
          0.06691449814126395
         ],
         "yaxis": "y",
         "type": "scatter"
        },
        {
         "hovertemplate": "product_id=110853<br>quarter=%{x}<br>pop_index_perc=%{y}<extra></extra>",
         "legendgroup": "110853",
         "line": {
          "color": "#19d3f3",
          "dash": "solid"
         },
         "marker": {
          "symbol": "circle"
         },
         "mode": "lines",
         "name": "110853",
         "orientation": "v",
         "showlegend": true,
         "x": [
          4,
          1,
          2,
          3
         ],
         "xaxis": "x",
         "y": [
          0.002890173410404624,
          1.0,
          0.5092936802973977,
          0.008264462809917354
         ],
         "yaxis": "y",
         "type": "scatter"
        },
        {
         "hovertemplate": "product_id=150667<br>quarter=%{x}<br>pop_index_perc=%{y}<extra></extra>",
         "legendgroup": "150667",
         "line": {
          "color": "#FF6692",
          "dash": "solid"
         },
         "marker": {
          "symbol": "circle"
         },
         "mode": "lines",
         "name": "150667",
         "orientation": "v",
         "showlegend": true,
         "x": [
          3,
          2,
          4
         ],
         "xaxis": "x",
         "y": [
          0.022038567493112945,
          0.5241635687732341,
          0.002890173410404624
         ],
         "yaxis": "y",
         "type": "scatter"
        },
        {
         "hovertemplate": "product_id=112582<br>quarter=%{x}<br>pop_index_perc=%{y}<extra></extra>",
         "legendgroup": "112582",
         "line": {
          "color": "#B6E880",
          "dash": "solid"
         },
         "marker": {
          "symbol": "circle"
         },
         "mode": "lines",
         "name": "112582",
         "orientation": "v",
         "showlegend": true,
         "x": [
          4,
          3,
          2
         ],
         "xaxis": "x",
         "y": [
          0.04046242774566474,
          1.0,
          1.0
         ],
         "yaxis": "y",
         "type": "scatter"
        },
        {
         "hovertemplate": "product_id=160952<br>quarter=%{x}<br>pop_index_perc=%{y}<extra></extra>",
         "legendgroup": "160952",
         "line": {
          "color": "#FF97FF",
          "dash": "solid"
         },
         "marker": {
          "symbol": "circle"
         },
         "mode": "lines",
         "name": "160952",
         "orientation": "v",
         "showlegend": true,
         "x": [
          2,
          1
         ],
         "xaxis": "x",
         "y": [
          0.49070631970260226,
          0.003992015968063872
         ],
         "yaxis": "y",
         "type": "scatter"
        },
        {
         "hovertemplate": "product_id=160649<br>quarter=%{x}<br>pop_index_perc=%{y}<extra></extra>",
         "legendgroup": "160649",
         "line": {
          "color": "#FECB52",
          "dash": "solid"
         },
         "marker": {
          "symbol": "circle"
         },
         "mode": "lines",
         "name": "160649",
         "orientation": "v",
         "showlegend": true,
         "x": [
          4,
          2,
          3
         ],
         "xaxis": "x",
         "y": [
          0.0,
          0.026022304832713755,
          0.5399449035812671
         ],
         "yaxis": "y",
         "type": "scatter"
        }
       ],
       "layout": {
        "template": {
         "data": {
          "histogram2dcontour": [
           {
            "type": "histogram2dcontour",
            "colorbar": {
             "outlinewidth": 0,
             "ticks": ""
            },
            "colorscale": [
             [
              0.0,
              "#0d0887"
             ],
             [
              0.1111111111111111,
              "#46039f"
             ],
             [
              0.2222222222222222,
              "#7201a8"
             ],
             [
              0.3333333333333333,
              "#9c179e"
             ],
             [
              0.4444444444444444,
              "#bd3786"
             ],
             [
              0.5555555555555556,
              "#d8576b"
             ],
             [
              0.6666666666666666,
              "#ed7953"
             ],
             [
              0.7777777777777778,
              "#fb9f3a"
             ],
             [
              0.8888888888888888,
              "#fdca26"
             ],
             [
              1.0,
              "#f0f921"
             ]
            ]
           }
          ],
          "choropleth": [
           {
            "type": "choropleth",
            "colorbar": {
             "outlinewidth": 0,
             "ticks": ""
            }
           }
          ],
          "histogram2d": [
           {
            "type": "histogram2d",
            "colorbar": {
             "outlinewidth": 0,
             "ticks": ""
            },
            "colorscale": [
             [
              0.0,
              "#0d0887"
             ],
             [
              0.1111111111111111,
              "#46039f"
             ],
             [
              0.2222222222222222,
              "#7201a8"
             ],
             [
              0.3333333333333333,
              "#9c179e"
             ],
             [
              0.4444444444444444,
              "#bd3786"
             ],
             [
              0.5555555555555556,
              "#d8576b"
             ],
             [
              0.6666666666666666,
              "#ed7953"
             ],
             [
              0.7777777777777778,
              "#fb9f3a"
             ],
             [
              0.8888888888888888,
              "#fdca26"
             ],
             [
              1.0,
              "#f0f921"
             ]
            ]
           }
          ],
          "heatmap": [
           {
            "type": "heatmap",
            "colorbar": {
             "outlinewidth": 0,
             "ticks": ""
            },
            "colorscale": [
             [
              0.0,
              "#0d0887"
             ],
             [
              0.1111111111111111,
              "#46039f"
             ],
             [
              0.2222222222222222,
              "#7201a8"
             ],
             [
              0.3333333333333333,
              "#9c179e"
             ],
             [
              0.4444444444444444,
              "#bd3786"
             ],
             [
              0.5555555555555556,
              "#d8576b"
             ],
             [
              0.6666666666666666,
              "#ed7953"
             ],
             [
              0.7777777777777778,
              "#fb9f3a"
             ],
             [
              0.8888888888888888,
              "#fdca26"
             ],
             [
              1.0,
              "#f0f921"
             ]
            ]
           }
          ],
          "heatmapgl": [
           {
            "type": "heatmapgl",
            "colorbar": {
             "outlinewidth": 0,
             "ticks": ""
            },
            "colorscale": [
             [
              0.0,
              "#0d0887"
             ],
             [
              0.1111111111111111,
              "#46039f"
             ],
             [
              0.2222222222222222,
              "#7201a8"
             ],
             [
              0.3333333333333333,
              "#9c179e"
             ],
             [
              0.4444444444444444,
              "#bd3786"
             ],
             [
              0.5555555555555556,
              "#d8576b"
             ],
             [
              0.6666666666666666,
              "#ed7953"
             ],
             [
              0.7777777777777778,
              "#fb9f3a"
             ],
             [
              0.8888888888888888,
              "#fdca26"
             ],
             [
              1.0,
              "#f0f921"
             ]
            ]
           }
          ],
          "contourcarpet": [
           {
            "type": "contourcarpet",
            "colorbar": {
             "outlinewidth": 0,
             "ticks": ""
            }
           }
          ],
          "contour": [
           {
            "type": "contour",
            "colorbar": {
             "outlinewidth": 0,
             "ticks": ""
            },
            "colorscale": [
             [
              0.0,
              "#0d0887"
             ],
             [
              0.1111111111111111,
              "#46039f"
             ],
             [
              0.2222222222222222,
              "#7201a8"
             ],
             [
              0.3333333333333333,
              "#9c179e"
             ],
             [
              0.4444444444444444,
              "#bd3786"
             ],
             [
              0.5555555555555556,
              "#d8576b"
             ],
             [
              0.6666666666666666,
              "#ed7953"
             ],
             [
              0.7777777777777778,
              "#fb9f3a"
             ],
             [
              0.8888888888888888,
              "#fdca26"
             ],
             [
              1.0,
              "#f0f921"
             ]
            ]
           }
          ],
          "surface": [
           {
            "type": "surface",
            "colorbar": {
             "outlinewidth": 0,
             "ticks": ""
            },
            "colorscale": [
             [
              0.0,
              "#0d0887"
             ],
             [
              0.1111111111111111,
              "#46039f"
             ],
             [
              0.2222222222222222,
              "#7201a8"
             ],
             [
              0.3333333333333333,
              "#9c179e"
             ],
             [
              0.4444444444444444,
              "#bd3786"
             ],
             [
              0.5555555555555556,
              "#d8576b"
             ],
             [
              0.6666666666666666,
              "#ed7953"
             ],
             [
              0.7777777777777778,
              "#fb9f3a"
             ],
             [
              0.8888888888888888,
              "#fdca26"
             ],
             [
              1.0,
              "#f0f921"
             ]
            ]
           }
          ],
          "mesh3d": [
           {
            "type": "mesh3d",
            "colorbar": {
             "outlinewidth": 0,
             "ticks": ""
            }
           }
          ],
          "scatter": [
           {
            "fillpattern": {
             "fillmode": "overlay",
             "size": 10,
             "solidity": 0.2
            },
            "type": "scatter"
           }
          ],
          "parcoords": [
           {
            "type": "parcoords",
            "line": {
             "colorbar": {
              "outlinewidth": 0,
              "ticks": ""
             }
            }
           }
          ],
          "scatterpolargl": [
           {
            "type": "scatterpolargl",
            "marker": {
             "colorbar": {
              "outlinewidth": 0,
              "ticks": ""
             }
            }
           }
          ],
          "bar": [
           {
            "error_x": {
             "color": "#2a3f5f"
            },
            "error_y": {
             "color": "#2a3f5f"
            },
            "marker": {
             "line": {
              "color": "#E5ECF6",
              "width": 0.5
             },
             "pattern": {
              "fillmode": "overlay",
              "size": 10,
              "solidity": 0.2
             }
            },
            "type": "bar"
           }
          ],
          "scattergeo": [
           {
            "type": "scattergeo",
            "marker": {
             "colorbar": {
              "outlinewidth": 0,
              "ticks": ""
             }
            }
           }
          ],
          "scatterpolar": [
           {
            "type": "scatterpolar",
            "marker": {
             "colorbar": {
              "outlinewidth": 0,
              "ticks": ""
             }
            }
           }
          ],
          "histogram": [
           {
            "marker": {
             "pattern": {
              "fillmode": "overlay",
              "size": 10,
              "solidity": 0.2
             }
            },
            "type": "histogram"
           }
          ],
          "scattergl": [
           {
            "type": "scattergl",
            "marker": {
             "colorbar": {
              "outlinewidth": 0,
              "ticks": ""
             }
            }
           }
          ],
          "scatter3d": [
           {
            "type": "scatter3d",
            "line": {
             "colorbar": {
              "outlinewidth": 0,
              "ticks": ""
             }
            },
            "marker": {
             "colorbar": {
              "outlinewidth": 0,
              "ticks": ""
             }
            }
           }
          ],
          "scattermapbox": [
           {
            "type": "scattermapbox",
            "marker": {
             "colorbar": {
              "outlinewidth": 0,
              "ticks": ""
             }
            }
           }
          ],
          "scatterternary": [
           {
            "type": "scatterternary",
            "marker": {
             "colorbar": {
              "outlinewidth": 0,
              "ticks": ""
             }
            }
           }
          ],
          "scattercarpet": [
           {
            "type": "scattercarpet",
            "marker": {
             "colorbar": {
              "outlinewidth": 0,
              "ticks": ""
             }
            }
           }
          ],
          "carpet": [
           {
            "aaxis": {
             "endlinecolor": "#2a3f5f",
             "gridcolor": "white",
             "linecolor": "white",
             "minorgridcolor": "white",
             "startlinecolor": "#2a3f5f"
            },
            "baxis": {
             "endlinecolor": "#2a3f5f",
             "gridcolor": "white",
             "linecolor": "white",
             "minorgridcolor": "white",
             "startlinecolor": "#2a3f5f"
            },
            "type": "carpet"
           }
          ],
          "table": [
           {
            "cells": {
             "fill": {
              "color": "#EBF0F8"
             },
             "line": {
              "color": "white"
             }
            },
            "header": {
             "fill": {
              "color": "#C8D4E3"
             },
             "line": {
              "color": "white"
             }
            },
            "type": "table"
           }
          ],
          "barpolar": [
           {
            "marker": {
             "line": {
              "color": "#E5ECF6",
              "width": 0.5
             },
             "pattern": {
              "fillmode": "overlay",
              "size": 10,
              "solidity": 0.2
             }
            },
            "type": "barpolar"
           }
          ],
          "pie": [
           {
            "automargin": true,
            "type": "pie"
           }
          ]
         },
         "layout": {
          "autotypenumbers": "strict",
          "colorway": [
           "#636efa",
           "#EF553B",
           "#00cc96",
           "#ab63fa",
           "#FFA15A",
           "#19d3f3",
           "#FF6692",
           "#B6E880",
           "#FF97FF",
           "#FECB52"
          ],
          "font": {
           "color": "#2a3f5f"
          },
          "hovermode": "closest",
          "hoverlabel": {
           "align": "left"
          },
          "paper_bgcolor": "white",
          "plot_bgcolor": "#E5ECF6",
          "polar": {
           "bgcolor": "#E5ECF6",
           "angularaxis": {
            "gridcolor": "white",
            "linecolor": "white",
            "ticks": ""
           },
           "radialaxis": {
            "gridcolor": "white",
            "linecolor": "white",
            "ticks": ""
           }
          },
          "ternary": {
           "bgcolor": "#E5ECF6",
           "aaxis": {
            "gridcolor": "white",
            "linecolor": "white",
            "ticks": ""
           },
           "baxis": {
            "gridcolor": "white",
            "linecolor": "white",
            "ticks": ""
           },
           "caxis": {
            "gridcolor": "white",
            "linecolor": "white",
            "ticks": ""
           }
          },
          "coloraxis": {
           "colorbar": {
            "outlinewidth": 0,
            "ticks": ""
           }
          },
          "colorscale": {
           "sequential": [
            [
             0.0,
             "#0d0887"
            ],
            [
             0.1111111111111111,
             "#46039f"
            ],
            [
             0.2222222222222222,
             "#7201a8"
            ],
            [
             0.3333333333333333,
             "#9c179e"
            ],
            [
             0.4444444444444444,
             "#bd3786"
            ],
            [
             0.5555555555555556,
             "#d8576b"
            ],
            [
             0.6666666666666666,
             "#ed7953"
            ],
            [
             0.7777777777777778,
             "#fb9f3a"
            ],
            [
             0.8888888888888888,
             "#fdca26"
            ],
            [
             1.0,
             "#f0f921"
            ]
           ],
           "sequentialminus": [
            [
             0.0,
             "#0d0887"
            ],
            [
             0.1111111111111111,
             "#46039f"
            ],
            [
             0.2222222222222222,
             "#7201a8"
            ],
            [
             0.3333333333333333,
             "#9c179e"
            ],
            [
             0.4444444444444444,
             "#bd3786"
            ],
            [
             0.5555555555555556,
             "#d8576b"
            ],
            [
             0.6666666666666666,
             "#ed7953"
            ],
            [
             0.7777777777777778,
             "#fb9f3a"
            ],
            [
             0.8888888888888888,
             "#fdca26"
            ],
            [
             1.0,
             "#f0f921"
            ]
           ],
           "diverging": [
            [
             0,
             "#8e0152"
            ],
            [
             0.1,
             "#c51b7d"
            ],
            [
             0.2,
             "#de77ae"
            ],
            [
             0.3,
             "#f1b6da"
            ],
            [
             0.4,
             "#fde0ef"
            ],
            [
             0.5,
             "#f7f7f7"
            ],
            [
             0.6,
             "#e6f5d0"
            ],
            [
             0.7,
             "#b8e186"
            ],
            [
             0.8,
             "#7fbc41"
            ],
            [
             0.9,
             "#4d9221"
            ],
            [
             1,
             "#276419"
            ]
           ]
          },
          "xaxis": {
           "gridcolor": "white",
           "linecolor": "white",
           "ticks": "",
           "title": {
            "standoff": 15
           },
           "zerolinecolor": "white",
           "automargin": true,
           "zerolinewidth": 2
          },
          "yaxis": {
           "gridcolor": "white",
           "linecolor": "white",
           "ticks": "",
           "title": {
            "standoff": 15
           },
           "zerolinecolor": "white",
           "automargin": true,
           "zerolinewidth": 2
          },
          "scene": {
           "xaxis": {
            "backgroundcolor": "#E5ECF6",
            "gridcolor": "white",
            "linecolor": "white",
            "showbackground": true,
            "ticks": "",
            "zerolinecolor": "white",
            "gridwidth": 2
           },
           "yaxis": {
            "backgroundcolor": "#E5ECF6",
            "gridcolor": "white",
            "linecolor": "white",
            "showbackground": true,
            "ticks": "",
            "zerolinecolor": "white",
            "gridwidth": 2
           },
           "zaxis": {
            "backgroundcolor": "#E5ECF6",
            "gridcolor": "white",
            "linecolor": "white",
            "showbackground": true,
            "ticks": "",
            "zerolinecolor": "white",
            "gridwidth": 2
           }
          },
          "shapedefaults": {
           "line": {
            "color": "#2a3f5f"
           }
          },
          "annotationdefaults": {
           "arrowcolor": "#2a3f5f",
           "arrowhead": 0,
           "arrowwidth": 1
          },
          "geo": {
           "bgcolor": "white",
           "landcolor": "#E5ECF6",
           "subunitcolor": "white",
           "showland": true,
           "showlakes": true,
           "lakecolor": "white"
          },
          "title": {
           "x": 0.05
          },
          "mapbox": {
           "style": "light"
          }
         }
        },
        "xaxis": {
         "anchor": "y",
         "domain": [
          0.0,
          1.0
         ],
         "title": {
          "text": "quarter"
         }
        },
        "yaxis": {
         "anchor": "x",
         "domain": [
          0.0,
          1.0
         ],
         "title": {
          "text": "pop_index_perc"
         }
        },
        "legend": {
         "title": {
          "text": "product_id"
         },
         "tracegroupgap": 0
        },
        "title": {
         "text": "Top 10 products with high standard deviation in popularity index between quarters"
        }
       },
       "config": {
        "plotlyServerURL": "https://plot.ly"
       }
      },
      "text/html": "<div>                            <div id=\"24fb9e3f-b058-4527-9765-b82150bb0173\" class=\"plotly-graph-div\" style=\"height:525px; width:100%;\"></div>            <script type=\"text/javascript\">                require([\"plotly\"], function(Plotly) {                    window.PLOTLYENV=window.PLOTLYENV || {};                                    if (document.getElementById(\"24fb9e3f-b058-4527-9765-b82150bb0173\")) {                    Plotly.newPlot(                        \"24fb9e3f-b058-4527-9765-b82150bb0173\",                        [{\"hovertemplate\":\"product_id=131910<br>quarter=%{x}<br>pop_index_perc=%{y}<extra></extra>\",\"legendgroup\":\"131910\",\"line\":{\"color\":\"#636efa\",\"dash\":\"solid\"},\"marker\":{\"symbol\":\"circle\"},\"mode\":\"lines\",\"name\":\"131910\",\"orientation\":\"v\",\"showlegend\":true,\"x\":[4,3,2,1],\"xaxis\":\"x\",\"y\":[0.03757225433526012,0.04683195592286501,0.6505576208178439,0.13373253493013973],\"yaxis\":\"y\",\"type\":\"scatter\"},{\"hovertemplate\":\"product_id=126707<br>quarter=%{x}<br>pop_index_perc=%{y}<extra></extra>\",\"legendgroup\":\"126707\",\"line\":{\"color\":\"#EF553B\",\"dash\":\"solid\"},\"marker\":{\"symbol\":\"circle\"},\"mode\":\"lines\",\"name\":\"126707\",\"orientation\":\"v\",\"showlegend\":true,\"x\":[1,2,4,3],\"xaxis\":\"x\",\"y\":[0.005988023952095808,0.0037174721189591076,0.6965317919075146,0.008264462809917354],\"yaxis\":\"y\",\"type\":\"scatter\"},{\"hovertemplate\":\"product_id=106100<br>quarter=%{x}<br>pop_index_perc=%{y}<extra></extra>\",\"legendgroup\":\"106100\",\"line\":{\"color\":\"#00cc96\",\"dash\":\"solid\"},\"marker\":{\"symbol\":\"circle\"},\"mode\":\"lines\",\"name\":\"106100\",\"orientation\":\"v\",\"showlegend\":true,\"x\":[2,1,3,4],\"xaxis\":\"x\",\"y\":[0.6208178438661711,0.009980039920159679,0.3085399449035812,0.008670520231213872],\"yaxis\":\"y\",\"type\":\"scatter\"},{\"hovertemplate\":\"product_id=156485<br>quarter=%{x}<br>pop_index_perc=%{y}<extra></extra>\",\"legendgroup\":\"156485\",\"line\":{\"color\":\"#ab63fa\",\"dash\":\"solid\"},\"marker\":{\"symbol\":\"circle\"},\"mode\":\"lines\",\"name\":\"156485\",\"orientation\":\"v\",\"showlegend\":true,\"x\":[2,4,1,3],\"xaxis\":\"x\",\"y\":[0.01486988847583643,0.6069364161849712,0.01596806387225549,0.030303030303030297],\"yaxis\":\"y\",\"type\":\"scatter\"},{\"hovertemplate\":\"product_id=110675<br>quarter=%{x}<br>pop_index_perc=%{y}<extra></extra>\",\"legendgroup\":\"110675\",\"line\":{\"color\":\"#FFA15A\",\"dash\":\"solid\"},\"marker\":{\"symbol\":\"circle\"},\"mode\":\"lines\",\"name\":\"110675\",\"orientation\":\"v\",\"showlegend\":true,\"x\":[4,3,1,2],\"xaxis\":\"x\",\"y\":[0.7890173410404625,0.022038567493112945,0.003992015968063872,0.06691449814126395],\"yaxis\":\"y\",\"type\":\"scatter\"},{\"hovertemplate\":\"product_id=110853<br>quarter=%{x}<br>pop_index_perc=%{y}<extra></extra>\",\"legendgroup\":\"110853\",\"line\":{\"color\":\"#19d3f3\",\"dash\":\"solid\"},\"marker\":{\"symbol\":\"circle\"},\"mode\":\"lines\",\"name\":\"110853\",\"orientation\":\"v\",\"showlegend\":true,\"x\":[4,1,2,3],\"xaxis\":\"x\",\"y\":[0.002890173410404624,1.0,0.5092936802973977,0.008264462809917354],\"yaxis\":\"y\",\"type\":\"scatter\"},{\"hovertemplate\":\"product_id=150667<br>quarter=%{x}<br>pop_index_perc=%{y}<extra></extra>\",\"legendgroup\":\"150667\",\"line\":{\"color\":\"#FF6692\",\"dash\":\"solid\"},\"marker\":{\"symbol\":\"circle\"},\"mode\":\"lines\",\"name\":\"150667\",\"orientation\":\"v\",\"showlegend\":true,\"x\":[3,2,4],\"xaxis\":\"x\",\"y\":[0.022038567493112945,0.5241635687732341,0.002890173410404624],\"yaxis\":\"y\",\"type\":\"scatter\"},{\"hovertemplate\":\"product_id=112582<br>quarter=%{x}<br>pop_index_perc=%{y}<extra></extra>\",\"legendgroup\":\"112582\",\"line\":{\"color\":\"#B6E880\",\"dash\":\"solid\"},\"marker\":{\"symbol\":\"circle\"},\"mode\":\"lines\",\"name\":\"112582\",\"orientation\":\"v\",\"showlegend\":true,\"x\":[4,3,2],\"xaxis\":\"x\",\"y\":[0.04046242774566474,1.0,1.0],\"yaxis\":\"y\",\"type\":\"scatter\"},{\"hovertemplate\":\"product_id=160952<br>quarter=%{x}<br>pop_index_perc=%{y}<extra></extra>\",\"legendgroup\":\"160952\",\"line\":{\"color\":\"#FF97FF\",\"dash\":\"solid\"},\"marker\":{\"symbol\":\"circle\"},\"mode\":\"lines\",\"name\":\"160952\",\"orientation\":\"v\",\"showlegend\":true,\"x\":[2,1],\"xaxis\":\"x\",\"y\":[0.49070631970260226,0.003992015968063872],\"yaxis\":\"y\",\"type\":\"scatter\"},{\"hovertemplate\":\"product_id=160649<br>quarter=%{x}<br>pop_index_perc=%{y}<extra></extra>\",\"legendgroup\":\"160649\",\"line\":{\"color\":\"#FECB52\",\"dash\":\"solid\"},\"marker\":{\"symbol\":\"circle\"},\"mode\":\"lines\",\"name\":\"160649\",\"orientation\":\"v\",\"showlegend\":true,\"x\":[4,2,3],\"xaxis\":\"x\",\"y\":[0.0,0.026022304832713755,0.5399449035812671],\"yaxis\":\"y\",\"type\":\"scatter\"}],                        {\"template\":{\"data\":{\"histogram2dcontour\":[{\"type\":\"histogram2dcontour\",\"colorbar\":{\"outlinewidth\":0,\"ticks\":\"\"},\"colorscale\":[[0.0,\"#0d0887\"],[0.1111111111111111,\"#46039f\"],[0.2222222222222222,\"#7201a8\"],[0.3333333333333333,\"#9c179e\"],[0.4444444444444444,\"#bd3786\"],[0.5555555555555556,\"#d8576b\"],[0.6666666666666666,\"#ed7953\"],[0.7777777777777778,\"#fb9f3a\"],[0.8888888888888888,\"#fdca26\"],[1.0,\"#f0f921\"]]}],\"choropleth\":[{\"type\":\"choropleth\",\"colorbar\":{\"outlinewidth\":0,\"ticks\":\"\"}}],\"histogram2d\":[{\"type\":\"histogram2d\",\"colorbar\":{\"outlinewidth\":0,\"ticks\":\"\"},\"colorscale\":[[0.0,\"#0d0887\"],[0.1111111111111111,\"#46039f\"],[0.2222222222222222,\"#7201a8\"],[0.3333333333333333,\"#9c179e\"],[0.4444444444444444,\"#bd3786\"],[0.5555555555555556,\"#d8576b\"],[0.6666666666666666,\"#ed7953\"],[0.7777777777777778,\"#fb9f3a\"],[0.8888888888888888,\"#fdca26\"],[1.0,\"#f0f921\"]]}],\"heatmap\":[{\"type\":\"heatmap\",\"colorbar\":{\"outlinewidth\":0,\"ticks\":\"\"},\"colorscale\":[[0.0,\"#0d0887\"],[0.1111111111111111,\"#46039f\"],[0.2222222222222222,\"#7201a8\"],[0.3333333333333333,\"#9c179e\"],[0.4444444444444444,\"#bd3786\"],[0.5555555555555556,\"#d8576b\"],[0.6666666666666666,\"#ed7953\"],[0.7777777777777778,\"#fb9f3a\"],[0.8888888888888888,\"#fdca26\"],[1.0,\"#f0f921\"]]}],\"heatmapgl\":[{\"type\":\"heatmapgl\",\"colorbar\":{\"outlinewidth\":0,\"ticks\":\"\"},\"colorscale\":[[0.0,\"#0d0887\"],[0.1111111111111111,\"#46039f\"],[0.2222222222222222,\"#7201a8\"],[0.3333333333333333,\"#9c179e\"],[0.4444444444444444,\"#bd3786\"],[0.5555555555555556,\"#d8576b\"],[0.6666666666666666,\"#ed7953\"],[0.7777777777777778,\"#fb9f3a\"],[0.8888888888888888,\"#fdca26\"],[1.0,\"#f0f921\"]]}],\"contourcarpet\":[{\"type\":\"contourcarpet\",\"colorbar\":{\"outlinewidth\":0,\"ticks\":\"\"}}],\"contour\":[{\"type\":\"contour\",\"colorbar\":{\"outlinewidth\":0,\"ticks\":\"\"},\"colorscale\":[[0.0,\"#0d0887\"],[0.1111111111111111,\"#46039f\"],[0.2222222222222222,\"#7201a8\"],[0.3333333333333333,\"#9c179e\"],[0.4444444444444444,\"#bd3786\"],[0.5555555555555556,\"#d8576b\"],[0.6666666666666666,\"#ed7953\"],[0.7777777777777778,\"#fb9f3a\"],[0.8888888888888888,\"#fdca26\"],[1.0,\"#f0f921\"]]}],\"surface\":[{\"type\":\"surface\",\"colorbar\":{\"outlinewidth\":0,\"ticks\":\"\"},\"colorscale\":[[0.0,\"#0d0887\"],[0.1111111111111111,\"#46039f\"],[0.2222222222222222,\"#7201a8\"],[0.3333333333333333,\"#9c179e\"],[0.4444444444444444,\"#bd3786\"],[0.5555555555555556,\"#d8576b\"],[0.6666666666666666,\"#ed7953\"],[0.7777777777777778,\"#fb9f3a\"],[0.8888888888888888,\"#fdca26\"],[1.0,\"#f0f921\"]]}],\"mesh3d\":[{\"type\":\"mesh3d\",\"colorbar\":{\"outlinewidth\":0,\"ticks\":\"\"}}],\"scatter\":[{\"fillpattern\":{\"fillmode\":\"overlay\",\"size\":10,\"solidity\":0.2},\"type\":\"scatter\"}],\"parcoords\":[{\"type\":\"parcoords\",\"line\":{\"colorbar\":{\"outlinewidth\":0,\"ticks\":\"\"}}}],\"scatterpolargl\":[{\"type\":\"scatterpolargl\",\"marker\":{\"colorbar\":{\"outlinewidth\":0,\"ticks\":\"\"}}}],\"bar\":[{\"error_x\":{\"color\":\"#2a3f5f\"},\"error_y\":{\"color\":\"#2a3f5f\"},\"marker\":{\"line\":{\"color\":\"#E5ECF6\",\"width\":0.5},\"pattern\":{\"fillmode\":\"overlay\",\"size\":10,\"solidity\":0.2}},\"type\":\"bar\"}],\"scattergeo\":[{\"type\":\"scattergeo\",\"marker\":{\"colorbar\":{\"outlinewidth\":0,\"ticks\":\"\"}}}],\"scatterpolar\":[{\"type\":\"scatterpolar\",\"marker\":{\"colorbar\":{\"outlinewidth\":0,\"ticks\":\"\"}}}],\"histogram\":[{\"marker\":{\"pattern\":{\"fillmode\":\"overlay\",\"size\":10,\"solidity\":0.2}},\"type\":\"histogram\"}],\"scattergl\":[{\"type\":\"scattergl\",\"marker\":{\"colorbar\":{\"outlinewidth\":0,\"ticks\":\"\"}}}],\"scatter3d\":[{\"type\":\"scatter3d\",\"line\":{\"colorbar\":{\"outlinewidth\":0,\"ticks\":\"\"}},\"marker\":{\"colorbar\":{\"outlinewidth\":0,\"ticks\":\"\"}}}],\"scattermapbox\":[{\"type\":\"scattermapbox\",\"marker\":{\"colorbar\":{\"outlinewidth\":0,\"ticks\":\"\"}}}],\"scatterternary\":[{\"type\":\"scatterternary\",\"marker\":{\"colorbar\":{\"outlinewidth\":0,\"ticks\":\"\"}}}],\"scattercarpet\":[{\"type\":\"scattercarpet\",\"marker\":{\"colorbar\":{\"outlinewidth\":0,\"ticks\":\"\"}}}],\"carpet\":[{\"aaxis\":{\"endlinecolor\":\"#2a3f5f\",\"gridcolor\":\"white\",\"linecolor\":\"white\",\"minorgridcolor\":\"white\",\"startlinecolor\":\"#2a3f5f\"},\"baxis\":{\"endlinecolor\":\"#2a3f5f\",\"gridcolor\":\"white\",\"linecolor\":\"white\",\"minorgridcolor\":\"white\",\"startlinecolor\":\"#2a3f5f\"},\"type\":\"carpet\"}],\"table\":[{\"cells\":{\"fill\":{\"color\":\"#EBF0F8\"},\"line\":{\"color\":\"white\"}},\"header\":{\"fill\":{\"color\":\"#C8D4E3\"},\"line\":{\"color\":\"white\"}},\"type\":\"table\"}],\"barpolar\":[{\"marker\":{\"line\":{\"color\":\"#E5ECF6\",\"width\":0.5},\"pattern\":{\"fillmode\":\"overlay\",\"size\":10,\"solidity\":0.2}},\"type\":\"barpolar\"}],\"pie\":[{\"automargin\":true,\"type\":\"pie\"}]},\"layout\":{\"autotypenumbers\":\"strict\",\"colorway\":[\"#636efa\",\"#EF553B\",\"#00cc96\",\"#ab63fa\",\"#FFA15A\",\"#19d3f3\",\"#FF6692\",\"#B6E880\",\"#FF97FF\",\"#FECB52\"],\"font\":{\"color\":\"#2a3f5f\"},\"hovermode\":\"closest\",\"hoverlabel\":{\"align\":\"left\"},\"paper_bgcolor\":\"white\",\"plot_bgcolor\":\"#E5ECF6\",\"polar\":{\"bgcolor\":\"#E5ECF6\",\"angularaxis\":{\"gridcolor\":\"white\",\"linecolor\":\"white\",\"ticks\":\"\"},\"radialaxis\":{\"gridcolor\":\"white\",\"linecolor\":\"white\",\"ticks\":\"\"}},\"ternary\":{\"bgcolor\":\"#E5ECF6\",\"aaxis\":{\"gridcolor\":\"white\",\"linecolor\":\"white\",\"ticks\":\"\"},\"baxis\":{\"gridcolor\":\"white\",\"linecolor\":\"white\",\"ticks\":\"\"},\"caxis\":{\"gridcolor\":\"white\",\"linecolor\":\"white\",\"ticks\":\"\"}},\"coloraxis\":{\"colorbar\":{\"outlinewidth\":0,\"ticks\":\"\"}},\"colorscale\":{\"sequential\":[[0.0,\"#0d0887\"],[0.1111111111111111,\"#46039f\"],[0.2222222222222222,\"#7201a8\"],[0.3333333333333333,\"#9c179e\"],[0.4444444444444444,\"#bd3786\"],[0.5555555555555556,\"#d8576b\"],[0.6666666666666666,\"#ed7953\"],[0.7777777777777778,\"#fb9f3a\"],[0.8888888888888888,\"#fdca26\"],[1.0,\"#f0f921\"]],\"sequentialminus\":[[0.0,\"#0d0887\"],[0.1111111111111111,\"#46039f\"],[0.2222222222222222,\"#7201a8\"],[0.3333333333333333,\"#9c179e\"],[0.4444444444444444,\"#bd3786\"],[0.5555555555555556,\"#d8576b\"],[0.6666666666666666,\"#ed7953\"],[0.7777777777777778,\"#fb9f3a\"],[0.8888888888888888,\"#fdca26\"],[1.0,\"#f0f921\"]],\"diverging\":[[0,\"#8e0152\"],[0.1,\"#c51b7d\"],[0.2,\"#de77ae\"],[0.3,\"#f1b6da\"],[0.4,\"#fde0ef\"],[0.5,\"#f7f7f7\"],[0.6,\"#e6f5d0\"],[0.7,\"#b8e186\"],[0.8,\"#7fbc41\"],[0.9,\"#4d9221\"],[1,\"#276419\"]]},\"xaxis\":{\"gridcolor\":\"white\",\"linecolor\":\"white\",\"ticks\":\"\",\"title\":{\"standoff\":15},\"zerolinecolor\":\"white\",\"automargin\":true,\"zerolinewidth\":2},\"yaxis\":{\"gridcolor\":\"white\",\"linecolor\":\"white\",\"ticks\":\"\",\"title\":{\"standoff\":15},\"zerolinecolor\":\"white\",\"automargin\":true,\"zerolinewidth\":2},\"scene\":{\"xaxis\":{\"backgroundcolor\":\"#E5ECF6\",\"gridcolor\":\"white\",\"linecolor\":\"white\",\"showbackground\":true,\"ticks\":\"\",\"zerolinecolor\":\"white\",\"gridwidth\":2},\"yaxis\":{\"backgroundcolor\":\"#E5ECF6\",\"gridcolor\":\"white\",\"linecolor\":\"white\",\"showbackground\":true,\"ticks\":\"\",\"zerolinecolor\":\"white\",\"gridwidth\":2},\"zaxis\":{\"backgroundcolor\":\"#E5ECF6\",\"gridcolor\":\"white\",\"linecolor\":\"white\",\"showbackground\":true,\"ticks\":\"\",\"zerolinecolor\":\"white\",\"gridwidth\":2}},\"shapedefaults\":{\"line\":{\"color\":\"#2a3f5f\"}},\"annotationdefaults\":{\"arrowcolor\":\"#2a3f5f\",\"arrowhead\":0,\"arrowwidth\":1},\"geo\":{\"bgcolor\":\"white\",\"landcolor\":\"#E5ECF6\",\"subunitcolor\":\"white\",\"showland\":true,\"showlakes\":true,\"lakecolor\":\"white\"},\"title\":{\"x\":0.05},\"mapbox\":{\"style\":\"light\"}}},\"xaxis\":{\"anchor\":\"y\",\"domain\":[0.0,1.0],\"title\":{\"text\":\"quarter\"}},\"yaxis\":{\"anchor\":\"x\",\"domain\":[0.0,1.0],\"title\":{\"text\":\"pop_index_perc\"}},\"legend\":{\"title\":{\"text\":\"product_id\"},\"tracegroupgap\":0},\"title\":{\"text\":\"Top 10 products with high standard deviation in popularity index between quarters\"}},                        {\"responsive\": true}                    ).then(function(){\n                            \nvar gd = document.getElementById('24fb9e3f-b058-4527-9765-b82150bb0173');\nvar x = new MutationObserver(function (mutations, observer) {{\n        var display = window.getComputedStyle(gd).display;\n        if (!display || display === 'none') {{\n            console.log([gd, 'removed!']);\n            Plotly.purge(gd);\n            observer.disconnect();\n        }}\n}});\n\n// Listen for the removal of the full notebook cells\nvar notebookContainer = gd.closest('#notebook-container');\nif (notebookContainer) {{\n    x.observe(notebookContainer, {childList: true});\n}}\n\n// Listen for the clearing of the current output cell\nvar outputEl = gd.closest('.output');\nif (outputEl) {{\n    x.observe(outputEl, {childList: true});\n}}\n\n                        })                };                });            </script>        </div>"
     },
     "metadata": {},
     "output_type": "display_data"
    }
   ],
   "source": [
    "plot = px.line(df_plot,\n",
    "               x=\"quarter\",\n",
    "               y=\"pop_index_perc\",\n",
    "               color='product_id',\n",
    "               title='Top 10 products with high standard deviation in popularity index between quarters')\n",
    "plot"
   ]
  }
 ],
 "metadata": {
  "kernelspec": {
   "display_name": "Python 3",
   "language": "python",
   "name": "python3"
  },
  "language_info": {
   "codemirror_mode": {
    "name": "ipython",
    "version": 3
   },
   "file_extension": ".py",
   "mimetype": "text/x-python",
   "name": "python",
   "nbconvert_exporter": "python",
   "pygments_lexer": "ipython3",
   "version": "3.8.5"
  }
 },
 "nbformat": 4,
 "nbformat_minor": 4
}