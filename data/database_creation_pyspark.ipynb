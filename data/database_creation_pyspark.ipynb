{
 "cells": [
  {
   "cell_type": "code",
   "execution_count": 1,
   "id": "52a6a1f0",
   "metadata": {},
   "outputs": [],
   "source": [
    "import pandas as pd\n",
    "import pyspark\n",
    "from pyspark.sql import SparkSession\n",
    "from pyspark.context import SparkContext\n",
    "from pyspark.sql.functions import when"
   ]
  },
  {
   "cell_type": "code",
   "execution_count": 2,
   "id": "e00ae935",
   "metadata": {},
   "outputs": [
    {
     "name": "stdout",
     "output_type": "stream",
     "text": [
      "22/12/08 17:23:46 WARN Utils: Your hostname, MacBook-Pro-di-Fabiana.local resolves to a loopback address: 127.0.0.1; using 192.168.1.52 instead (on interface en0)\n",
      "22/12/08 17:23:46 WARN Utils: Set SPARK_LOCAL_IP if you need to bind to another address\n"
     ]
    },
    {
     "name": "stderr",
     "output_type": "stream",
     "text": [
      "Setting default log level to \"WARN\".\n",
      "To adjust logging level use sc.setLogLevel(newLevel). For SparkR, use setLogLevel(newLevel).\n"
     ]
    },
    {
     "name": "stdout",
     "output_type": "stream",
     "text": [
      "22/12/08 17:23:47 WARN NativeCodeLoader: Unable to load native-hadoop library for your platform... using builtin-java classes where applicable\n",
      "22/12/08 17:23:48 WARN Utils: Service 'SparkUI' could not bind on port 4040. Attempting port 4041.\n"
     ]
    }
   ],
   "source": [
    "import findspark\n",
    "findspark.init()\n",
    "from pyspark.sql import SparkSession\n",
    "spark = SparkSession.builder.appName(\"dbcreation_alkemy\")\\\n",
    ".getOrCreate()"
   ]
  },
  {
   "cell_type": "code",
   "execution_count": 3,
   "id": "4d2dbb7b",
   "metadata": {
    "scrolled": true
   },
   "outputs": [
    {
     "name": "stderr",
     "output_type": "stream",
     "text": [
      "                                                                                \r"
     ]
    }
   ],
   "source": [
    "regular = spark.read.csv('clicks_regular_all.csv', header=True, inferSchema=True)\n",
    "bidding = spark.read.csv('clicks_bidding_all.csv', header=True, inferSchema=True)\n",
    "concatenato = regular.union(bidding)"
   ]
  },
  {
   "cell_type": "code",
   "execution_count": 4,
   "id": "5a874010",
   "metadata": {},
   "outputs": [],
   "source": [
    "concatenato = concatenato.withColumn(\"type\", when(concatenato.type == \"Regular\",0) \\\n",
    "      .otherwise(1))\n",
    "\n",
    "concatenato = concatenato.withColumn(\"position\", when(concatenato.type == 0,concatenato.position + 3) \\\n",
    "      .otherwise(concatenato.position))\n",
    "\n",
    "concatenato = concatenato.where(\n",
    "    ((concatenato.position != 0)\n",
    "     & (concatenato.type != 0))\n",
    ")"
   ]
  },
  {
   "cell_type": "code",
   "execution_count": 5,
   "id": "5ee76f4f",
   "metadata": {},
   "outputs": [
    {
     "name": "stderr",
     "output_type": "stream",
     "text": [
      "\r",
      "[Stage 4:>                                                          (0 + 1) / 1]\r",
      "\r",
      "                                                                                \r"
     ]
    },
    {
     "name": "stdout",
     "output_type": "stream",
     "text": [
      "+-------------------+------+--------+---------+---------+-------+----+----------+\n",
      "|               date|seller|position|price_max|price_min|  price|type|product_id|\n",
      "+-------------------+------+--------+---------+---------+-------+----+----------+\n",
      "|2021-04-02 11:48:02|    48|     1.0|  25990.0|  21990.0|25990.0|   1|    140476|\n",
      "|2021-04-02 11:48:04|   180|     1.0|  51990.0|  42989.0|45490.0|   1|    123606|\n",
      "|2021-04-02 11:48:15|    24|     1.0|  53990.0|  48789.0|38790.0|   1|    157285|\n",
      "|2021-04-02 11:48:16|    48|     1.0|  10699.0|   8450.0| 8990.0|   1|    113103|\n",
      "|2021-04-02 11:48:59|    24|     1.0|  67199.0|  67199.0|55990.0|   1|    151375|\n",
      "|2021-04-02 11:49:06|   180|     3.0|   2690.0|   2690.0| 2590.0|   1|    128134|\n",
      "|2021-04-02 11:49:57|    24|     1.0|  96990.0|  72499.0|69990.0|   1|    152248|\n",
      "|2021-04-02 11:50:59|    24|     1.0| 120390.0|   5990.0|13990.0|   1|    122363|\n",
      "|2021-04-02 11:51:02|    26|     1.0|  19990.0|  13990.0|16999.0|   1|    126293|\n",
      "|2021-04-02 11:52:01|    24|     1.0|   2899.0|   2090.0| 2749.0|   1|    134825|\n",
      "|2021-04-02 11:53:06|    48|     1.0|  19747.0|  19747.0|19990.0|   1|    155833|\n",
      "|2021-04-02 11:53:07|    24|     1.0|   5590.0|   5590.0| 5490.0|   1|    142692|\n",
      "|2021-04-02 11:53:18|    48|     1.0|  19747.0|  19747.0|19990.0|   1|    155833|\n",
      "|2021-04-02 11:53:24|    24|     1.0|   2899.0|   2090.0| 2749.0|   1|    134825|\n",
      "|2021-04-02 11:53:25|   180|     2.0|  81990.0|  75489.0|73990.0|   1|    105171|\n",
      "|2021-04-02 11:53:25|    24|     1.0|   5090.0|   3399.0| 3790.0|   1|    131971|\n",
      "|2021-04-02 11:53:26|   180|     2.0|  55990.0|  48980.0|46990.0|   1|    155022|\n",
      "|2021-04-02 11:53:43|    48|     2.0|   2899.0|   2090.0| 2749.0|   1|    134825|\n",
      "|2021-04-02 11:53:58|   180|     1.0|   2106.0|   2106.0| 2590.0|   1|    108166|\n",
      "|2021-04-02 11:54:06|    26|     2.0|   9498.0|   5800.0| 5190.0|   1|    149415|\n",
      "+-------------------+------+--------+---------+---------+-------+----+----------+\n",
      "only showing top 20 rows\n",
      "\n"
     ]
    }
   ],
   "source": [
    "concatenato.show()"
   ]
  },
  {
   "cell_type": "code",
   "execution_count": 6,
   "id": "67f62ce4",
   "metadata": {},
   "outputs": [
    {
     "name": "stderr",
     "output_type": "stream",
     "text": [
      "                                                                                \r"
     ]
    }
   ],
   "source": [
    "concatenato.write.save(\"clicks_concatenato.csv\",format=\"csv\")"
   ]
  }
 ],
 "metadata": {
  "kernelspec": {
   "display_name": "Python 3 (ipykernel)",
   "language": "python",
   "name": "python3"
  },
  "language_info": {
   "codemirror_mode": {
    "name": "ipython",
    "version": 3
   },
   "file_extension": ".py",
   "mimetype": "text/x-python",
   "name": "python",
   "nbconvert_exporter": "python",
   "pygments_lexer": "ipython3",
   "version": "3.10.0"
  }
 },
 "nbformat": 4,
 "nbformat_minor": 5
}
