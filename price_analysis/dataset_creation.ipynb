{
 "cells": [
  {
   "cell_type": "code",
   "execution_count": null,
   "metadata": {
    "collapsed": true
   },
   "outputs": [],
   "source": [
    "import pandas as pd\n",
    "import sqlite3"
   ]
  },
  {
   "cell_type": "code",
   "execution_count": null,
   "outputs": [],
   "source": [
    "# regular = pd.read_csv('dataset/clicks_regular_all.csv')\n",
    "# bidding = pd.read_csv('dataset/clicks_bidding_all.csv')\n",
    "# concatenato = pd.concat([regular, bidding], axis = 0).to_csv('dataset/clicks_concatenato.csv')\n",
    "#\n",
    "# # Crea o sovrascrivi un database e connettiti\n",
    "# conn= sqlite3.connect(\"database.db\")\n",
    "#\n",
    "# # Tutti i file devono avere questi nomi ed essere inseriti nella stessa cartella di questo script\n",
    "# files = {'bidding':'dataset/clicks_bidding_all.csv',\n",
    "#          'regular': 'dataset/clicks_regular_all.csv',\n",
    "#          'prices': 'dataset/prices_competitor_all.csv',\n",
    "#          'catalog': 'dataset/product_catalog_all.csv',\n",
    "#          'sales': 'dataset/sales_data_all.csv',\n",
    "#          'sellers': 'dataset/sellers_list_all.csv',\n",
    "#          'stock': 'dataset/stock_all.csv',\n",
    "#          'concatenato': 'dataset/clicks_concatenato.csv'}\n",
    "#\n",
    "# # Aggiungi i .csv al database\n",
    "# for file in files:\n",
    "#   data = pd.read_csv(files[file])\n",
    "#   data.to_sql(file, conn, if_exists='replace')\n",
    "#\n",
    "# # Query di modifica sul database\n",
    "# conn.execute(\"DELETE FROM concatenato WHERE position = 0.0 AND type = 'Regular'\")\n",
    "# conn.execute(\"UPDATE concatenato SET type = 0 WHERE type = 'Regular'\")\n",
    "# conn.execute(\"UPDATE concatenato SET type = 1 WHERE type = 'Bidding'\")\n",
    "# conn.execute(\"UPDATE concatenato SET position = position + 3 WHERE type = 'Regular'\")\n",
    "\n",
    "query = pd.read_sql(\"\"\"\n",
    "WITH d AS (\n",
    "  SELECT comp_date, product_id, MIN(price) AS min, MAX(price) AS max\n",
    "  FROM prices\n",
    "  GROUP BY comp_date, product_id\n",
    ")\n",
    "SELECT p.comp_date, p.product_id, p.seller_id, d.min, p.price, d.max\n",
    "FROM prices as p\n",
    "LEFT JOIN d ON p.comp_date = d.comp_date AND p.product_id = d.product_id\n",
    "\"\"\",\n",
    "                         conn)"
   ],
   "metadata": {
    "collapsed": false,
    "pycharm": {
     "name": "#%%\n"
    }
   }
  }
 ],
 "metadata": {
  "kernelspec": {
   "display_name": "Python 3",
   "language": "python",
   "name": "python3"
  },
  "language_info": {
   "codemirror_mode": {
    "name": "ipython",
    "version": 2
   },
   "file_extension": ".py",
   "mimetype": "text/x-python",
   "name": "python",
   "nbconvert_exporter": "python",
   "pygments_lexer": "ipython2",
   "version": "2.7.6"
  }
 },
 "nbformat": 4,
 "nbformat_minor": 0
}