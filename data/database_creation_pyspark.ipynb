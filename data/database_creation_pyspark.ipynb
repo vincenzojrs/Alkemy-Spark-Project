{
 "cells": [
  {
   "cell_type": "code",
   "execution_count": 1,
   "id": "52a6a1f0",
   "metadata": {},
   "outputs": [],
   "source": [
    "import pandas as pd\n",
    "import pyspark\n",
    "from pyspark.sql import SparkSession\n",
    "from pyspark.context import SparkContext\n",
    "from pyspark.sql.functions import when"
   ]
  },
  {
   "cell_type": "code",
   "execution_count": 2,
   "id": "e00ae935",
   "metadata": {},
   "outputs": [
    {
     "name": "stdout",
     "output_type": "stream",
     "text": [
      "22/12/08 11:41:39 WARN Utils: Your hostname, MacBook-Pro-di-Fabiana.local resolves to a loopback address: 127.0.0.1; using 192.168.1.52 instead (on interface en0)\n",
      "22/12/08 11:41:39 WARN Utils: Set SPARK_LOCAL_IP if you need to bind to another address\n"
     ]
    },
    {
     "name": "stderr",
     "output_type": "stream",
     "text": [
      "Setting default log level to \"WARN\".\n",
      "To adjust logging level use sc.setLogLevel(newLevel). For SparkR, use setLogLevel(newLevel).\n"
     ]
    },
    {
     "name": "stdout",
     "output_type": "stream",
     "text": [
      "22/12/08 11:41:40 WARN NativeCodeLoader: Unable to load native-hadoop library for your platform... using builtin-java classes where applicable\n"
     ]
    }
   ],
   "source": [
    "import findspark\n",
    "findspark.init()\n",
    "from pyspark.sql import SparkSession\n",
    "spark = SparkSession.builder.appName(\"dbcreation_alkemy\")\\\n",
    ".config (\"spark.sql.shuffle.partitions\", \"50\")\\\n",
    ".config(\"spark.driver.maxResultSize\",\"5g\")\\\n",
    ".config (\"spark.sql.execution.arrow.enabled\", \"true\")\\\n",
    ".getOrCreate()"
   ]
  },
  {
   "cell_type": "code",
   "execution_count": 3,
   "id": "4d2dbb7b",
   "metadata": {
    "scrolled": true
   },
   "outputs": [
    {
     "name": "stdout",
     "output_type": "stream",
     "text": [
      "22/12/08 11:41:41 WARN SQLConf: The SQL config 'spark.sql.execution.arrow.enabled' has been deprecated in Spark v3.0 and may be removed in the future. Use 'spark.sql.execution.arrow.pyspark.enabled' instead of it.\n",
      "22/12/08 11:41:41 WARN SQLConf: The SQL config 'spark.sql.execution.arrow.enabled' has been deprecated in Spark v3.0 and may be removed in the future. Use 'spark.sql.execution.arrow.pyspark.enabled' instead of it.\n",
      "22/12/08 11:41:41 WARN SQLConf: The SQL config 'spark.sql.execution.arrow.enabled' has been deprecated in Spark v3.0 and may be removed in the future. Use 'spark.sql.execution.arrow.pyspark.enabled' instead of it.\n",
      "22/12/08 11:41:45 WARN SQLConf: The SQL config 'spark.sql.execution.arrow.enabled' has been deprecated in Spark v3.0 and may be removed in the future. Use 'spark.sql.execution.arrow.pyspark.enabled' instead of it.\n",
      "22/12/08 11:41:45 WARN SQLConf: The SQL config 'spark.sql.execution.arrow.enabled' has been deprecated in Spark v3.0 and may be removed in the future. Use 'spark.sql.execution.arrow.pyspark.enabled' instead of it.\n",
      "22/12/08 11:41:45 WARN SQLConf: The SQL config 'spark.sql.execution.arrow.enabled' has been deprecated in Spark v3.0 and may be removed in the future. Use 'spark.sql.execution.arrow.pyspark.enabled' instead of it.\n",
      "22/12/08 11:41:45 WARN SQLConf: The SQL config 'spark.sql.execution.arrow.enabled' has been deprecated in Spark v3.0 and may be removed in the future. Use 'spark.sql.execution.arrow.pyspark.enabled' instead of it.\n",
      "22/12/08 11:41:45 WARN SQLConf: The SQL config 'spark.sql.execution.arrow.enabled' has been deprecated in Spark v3.0 and may be removed in the future. Use 'spark.sql.execution.arrow.pyspark.enabled' instead of it.\n",
      "22/12/08 11:41:45 WARN SQLConf: The SQL config 'spark.sql.execution.arrow.enabled' has been deprecated in Spark v3.0 and may be removed in the future. Use 'spark.sql.execution.arrow.pyspark.enabled' instead of it.\n",
      "22/12/08 11:41:45 WARN SQLConf: The SQL config 'spark.sql.execution.arrow.enabled' has been deprecated in Spark v3.0 and may be removed in the future. Use 'spark.sql.execution.arrow.pyspark.enabled' instead of it.\n",
      "22/12/08 11:41:45 WARN SQLConf: The SQL config 'spark.sql.execution.arrow.enabled' has been deprecated in Spark v3.0 and may be removed in the future. Use 'spark.sql.execution.arrow.pyspark.enabled' instead of it.\n"
     ]
    },
    {
     "name": "stderr",
     "output_type": "stream",
     "text": [
      "                                                                                \r"
     ]
    },
    {
     "name": "stdout",
     "output_type": "stream",
     "text": [
      "22/12/08 11:41:48 WARN SQLConf: The SQL config 'spark.sql.execution.arrow.enabled' has been deprecated in Spark v3.0 and may be removed in the future. Use 'spark.sql.execution.arrow.pyspark.enabled' instead of it.\n",
      "22/12/08 11:41:48 WARN SQLConf: The SQL config 'spark.sql.execution.arrow.enabled' has been deprecated in Spark v3.0 and may be removed in the future. Use 'spark.sql.execution.arrow.pyspark.enabled' instead of it.\n",
      "22/12/08 11:41:48 WARN SQLConf: The SQL config 'spark.sql.execution.arrow.enabled' has been deprecated in Spark v3.0 and may be removed in the future. Use 'spark.sql.execution.arrow.pyspark.enabled' instead of it.\n",
      "22/12/08 11:41:48 WARN SQLConf: The SQL config 'spark.sql.execution.arrow.enabled' has been deprecated in Spark v3.0 and may be removed in the future. Use 'spark.sql.execution.arrow.pyspark.enabled' instead of it.\n",
      "22/12/08 11:41:48 WARN SQLConf: The SQL config 'spark.sql.execution.arrow.enabled' has been deprecated in Spark v3.0 and may be removed in the future. Use 'spark.sql.execution.arrow.pyspark.enabled' instead of it.\n",
      "22/12/08 11:41:48 WARN SQLConf: The SQL config 'spark.sql.execution.arrow.enabled' has been deprecated in Spark v3.0 and may be removed in the future. Use 'spark.sql.execution.arrow.pyspark.enabled' instead of it.\n",
      "22/12/08 11:41:48 WARN SQLConf: The SQL config 'spark.sql.execution.arrow.enabled' has been deprecated in Spark v3.0 and may be removed in the future. Use 'spark.sql.execution.arrow.pyspark.enabled' instead of it.\n",
      "22/12/08 11:41:48 WARN SQLConf: The SQL config 'spark.sql.execution.arrow.enabled' has been deprecated in Spark v3.0 and may be removed in the future. Use 'spark.sql.execution.arrow.pyspark.enabled' instead of it.\n"
     ]
    },
    {
     "name": "stderr",
     "output_type": "stream",
     "text": [
      "\r",
      "[Stage 3:=======>                                                   (1 + 7) / 8]\r",
      "\r",
      "                                                                                \r"
     ]
    }
   ],
   "source": [
    "regular = spark.read.csv('clicks_regular_all.csv', header=True, inferSchema=True)\n",
    "bidding = spark.read.csv('clicks_bidding_all.csv', header=True, inferSchema=True)\n",
    "concatenato = regular.union(bidding)"
   ]
  },
  {
   "cell_type": "code",
   "execution_count": 4,
   "id": "5815cd7a",
   "metadata": {},
   "outputs": [],
   "source": [
    "concatenato = concatenato.withColumn(\"type\", when(concatenato.type == \"Regular\",0) \\\n",
    "      .otherwise(1))\n",
    "\n",
    "concatenato = concatenato.withColumn(\"position\", when(concatenato.type == 0,concatenato.position + 3) \\\n",
    "      .otherwise(concatenato.position))\n",
    "\n",
    "concatenato3 = concatenato.filter(\n",
    "    ((concatenato.position != 0)\n",
    "     & (concatenato.type != 0))\n",
    ")"
   ]
  },
  {
   "cell_type": "code",
   "execution_count": 5,
   "id": "ee418e7a",
   "metadata": {},
   "outputs": [
    {
     "name": "stdout",
     "output_type": "stream",
     "text": [
      "+-------------------+------+--------+---------+---------+-----+----+----------+\n",
      "|               date|seller|position|price_max|price_min|price|type|product_id|\n",
      "+-------------------+------+--------+---------+---------+-----+----+----------+\n",
      "|2020-01-01 00:28:01|    48|    null|   5290.0|   5290.0| null|   0|    148875|\n",
      "|2020-01-01 00:29:40|    48|    null|  11787.0|   9990.0| null|   0|    104538|\n",
      "|2020-01-01 00:30:39|    23|    null|  16217.0|  16217.0| null|   0|    108283|\n",
      "|2020-01-01 00:42:23|    48|    null|   7399.0|   6398.0| null|   0|    144718|\n",
      "|2020-01-01 00:42:51|   407|    null|   3343.0|   2299.0| null|   0|    144776|\n",
      "|2020-01-01 00:42:57|    24|    null|  12999.0|   9491.0| null|   0|    132634|\n",
      "|2020-01-01 00:44:21|    24|    null|  10890.0|   9290.0| null|   0|    110429|\n",
      "|2020-01-01 00:46:46|    24|    null|  31690.0|  28999.0| null|   0|    141943|\n",
      "|2020-01-01 00:56:15|    24|    null|  43199.0|  43199.0| null|   0|    128665|\n",
      "|2020-01-01 00:57:23|    24|    null|  59499.0|  47290.0| null|   0|    122464|\n",
      "|2020-01-01 00:59:50|    26|    null|  23990.0|  23990.0| null|   0|    140182|\n",
      "|2020-01-01 01:02:06|    23|    null|   6499.0|   5600.0| null|   0|    135037|\n",
      "|2020-01-01 01:03:35|    41|    null|  59499.0|  47290.0| null|   0|    122464|\n",
      "|2020-01-01 01:06:49|    23|    null|   6499.0|   5600.0| null|   0|    135037|\n",
      "|2020-01-01 01:11:57|    48|    null|  21100.0|  19562.0| null|   0|    182891|\n",
      "|2020-01-01 01:11:57|    48|    null|  21100.0|  19562.0| null|   0|    143825|\n",
      "|2020-01-01 01:17:22|    48|    null|  35990.0|  35990.0| null|   0|    140283|\n",
      "|2020-01-01 01:18:53|    48|    null|   3490.0|   2956.0| null|   0|    148442|\n",
      "|2020-01-01 01:29:10|    23|    null|   8230.0|   6249.0| null|   0|    143121|\n",
      "|2020-01-01 01:47:39|    41|    null|   8230.0|   6249.0| null|   0|    143121|\n",
      "+-------------------+------+--------+---------+---------+-----+----+----------+\n",
      "only showing top 20 rows\n",
      "\n"
     ]
    }
   ],
   "source": [
    "concatenato.show()"
   ]
  }
 ],
 "metadata": {
  "kernelspec": {
   "display_name": "Python 3 (ipykernel)",
   "language": "python",
   "name": "python3"
  },
  "language_info": {
   "codemirror_mode": {
    "name": "ipython",
    "version": 3
   },
   "file_extension": ".py",
   "mimetype": "text/x-python",
   "name": "python",
   "nbconvert_exporter": "python",
   "pygments_lexer": "ipython3",
   "version": "3.10.0"
  }
 },
 "nbformat": 4,
 "nbformat_minor": 5
}
