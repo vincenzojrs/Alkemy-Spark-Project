{
 "cells": [
  {
   "cell_type": "code",
   "execution_count": 168,
   "outputs": [],
   "source": [
    "import matplotlib.pyplot as plt\n",
    "import seaborn as sns\n",
    "import pandas as pd"
   ],
   "metadata": {
    "collapsed": false,
    "pycharm": {
     "name": "#%%\n"
    }
   }
  },
  {
   "cell_type": "code",
   "execution_count": 169,
   "outputs": [],
   "source": [
    "df = pd.read_csv('sales_data.csv')\n",
    "df['sale_date'] = pd.to_datetime(df['sale_date'])\n",
    "df[\"quarter\"] = df.sale_date.dt.quarter"
   ],
   "metadata": {
    "collapsed": false,
    "pycharm": {
     "name": "#%%\n"
    }
   }
  },
  {
   "cell_type": "code",
   "execution_count": 170,
   "outputs": [],
   "source": [
    "def myfunc(q):\n",
    "\n",
    "    # Filtering by quarter\n",
    "    my_df = df[df.quarter == q]\n",
    "\n",
    "    # Grouping by product_id and sum the quantities\n",
    "    my_df_grouped = my_df.groupby('product_id').sum('quantity')\n",
    "\n",
    "    # Compute the naive popularity index and scale it\n",
    "    my_df_grouped['pop_index'] = my_df_grouped['quantity'] / my_df_grouped['quantity'].sum()\n",
    "    my_df_grouped['pop_index_perc'] = (my_df_grouped['pop_index'] - my_df_grouped['pop_index'].min())\\\n",
    "                                            / (my_df_grouped['pop_index'].max() - my_df_grouped['pop_index'].min())\n",
    "\n",
    "    # Compute the revenues index and scale it\n",
    "    my_df_grouped['revenues'] = my_df_grouped['quantity'] * my_df_grouped['sales_price']\n",
    "    my_df_grouped['revenues_perc'] = (my_df_grouped['revenues'] - my_df_grouped['revenues'].min())\\\n",
    "                                            / (my_df_grouped['revenues'].max() - my_df_grouped['revenues'].min())\n",
    "\n",
    "    my_df_grouped.reset_index(inplace = True)\n",
    "    return my_df_grouped\n",
    "\n",
    "var = myfunc(1)"
   ],
   "metadata": {
    "collapsed": false,
    "pycharm": {
     "name": "#%%\n"
    }
   }
  },
  {
   "cell_type": "code",
   "execution_count": 171,
   "outputs": [
    {
     "name": "stdout",
     "output_type": "stream",
     "text": [
      "Contribution to total revenues of the 0.1 most popular products: 0.30147725647182294\n"
     ]
    }
   ],
   "source": [
    "def ABC(X):\n",
    "    top_ten = list(var[var['pop_index_perc'] > X].product_id.unique().tolist())\n",
    "    my_df = var[var['product_id'].isin(top_ten)].reset_index(drop = True)\n",
    "    print('Contribution to total revenues of the {} most popular products:'.format(X), my_df.revenues.sum()/var.revenues.sum())\n",
    "ABC(0.1)"
   ],
   "metadata": {
    "collapsed": false,
    "pycharm": {
     "name": "#%%\n"
    }
   }
  },
  {
   "cell_type": "code",
   "execution_count": 173,
   "outputs": [
    {
     "name": "stdout",
     "output_type": "stream",
     "text": [
      "      product_id  quantity  sales_price_tax  regular_price_tax  sales_price  \\\n",
      "0         100043         3           1377.0             1530.0       1146.0   \n",
      "1         100044         2           1113.0             1308.0        928.0   \n",
      "2         100108         1          12990.0            14433.0      10825.0   \n",
      "3         100122         4           3116.0             3512.0       2596.0   \n",
      "4         100124         8          21390.0            24800.0      17826.0   \n",
      "...          ...       ...              ...                ...          ...   \n",
      "4782      162126         2          15980.0            17756.0      13316.0   \n",
      "4783      162127         1          10990.0            12211.0       9158.0   \n",
      "4784      162303         4          11460.0            13288.0       9551.0   \n",
      "4785      162337         3         373320.0           466644.0     311100.0   \n",
      "4786      162361         1          25990.0            28878.0      21658.0   \n",
      "\n",
      "      regular_price  purchase_price  quarter  pop_index  pop_index_perc  \\\n",
      "0         1275.0000          810.00        3   0.000077        0.003992   \n",
      "1         1090.7371          700.00        2   0.000051        0.001996   \n",
      "2        12027.7778         7900.00        1   0.000026        0.000000   \n",
      "3         2925.9260         1796.51        4   0.000103        0.005988   \n",
      "4        20666.6664        15183.84        8   0.000206        0.013972   \n",
      "...             ...             ...      ...        ...             ...   \n",
      "4782     14796.2962         8295.40        2   0.000051        0.001996   \n",
      "4783     10175.9259         7445.90        1   0.000026        0.000000   \n",
      "4784     11074.0740         7532.00        4   0.000103        0.005988   \n",
      "4785    388870.3704       284236.00        2   0.000077        0.003992   \n",
      "4786     24064.8148        17413.30        1   0.000026        0.000000   \n",
      "\n",
      "      revenues  revenues_perc  \n",
      "0       3438.0       0.000029  \n",
      "1       1856.0       0.000016  \n",
      "2      10825.0       0.000092  \n",
      "3      10384.0       0.000088  \n",
      "4     142608.0       0.001207  \n",
      "...        ...            ...  \n",
      "4782   26632.0       0.000225  \n",
      "4783    9158.0       0.000078  \n",
      "4784   38204.0       0.000323  \n",
      "4785  933300.0       0.007901  \n",
      "4786   21658.0       0.000183  \n",
      "\n",
      "[4787 rows x 12 columns]\n"
     ]
    }
   ],
   "source": [
    "def vincolo():\n",
    "    print(var)\n",
    "\n",
    "\n",
    "vincolo()"
   ],
   "metadata": {
    "collapsed": false,
    "pycharm": {
     "name": "#%%\n"
    }
   }
  },
  {
   "cell_type": "code",
   "execution_count": null,
   "outputs": [],
   "source": [],
   "metadata": {
    "collapsed": false,
    "pycharm": {
     "name": "#%%\n"
    }
   }
  }
 ],
 "metadata": {
  "kernelspec": {
   "display_name": "Python 3",
   "language": "python",
   "name": "python3"
  },
  "language_info": {
   "codemirror_mode": {
    "name": "ipython",
    "version": 2
   },
   "file_extension": ".py",
   "mimetype": "text/x-python",
   "name": "python",
   "nbconvert_exporter": "python",
   "pygments_lexer": "ipython2",
   "version": "2.7.6"
  }
 },
 "nbformat": 4,
 "nbformat_minor": 0
}