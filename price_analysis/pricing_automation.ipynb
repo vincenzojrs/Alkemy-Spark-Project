{
 "cells": [
  {
   "cell_type": "markdown",
   "id": "dab48c53",
   "metadata": {},
   "source": [
    "# Dataset creation"
   ]
  },
  {
   "cell_type": "code",
   "execution_count": 12,
   "id": "130c9ad9",
   "metadata": {},
   "outputs": [],
   "source": [
    "from statsmodels.tsa.stattools import grangercausalitytests\n",
    "from statsmodels.tsa.stattools import coint\n",
    "\n",
    "from sklearn.preprocessing import LabelEncoder\n",
    "\n",
    "import pandas as pd\n",
    "import numpy as np\n",
    "\n",
    "import plotly.graph_objects as go\n",
    "import matplotlib.pyplot as plt\n",
    "import plotly.express as px\n",
    "\n",
    "import numbers\n",
    "import statistics as st\n",
    "\n",
    "df = pd.read_csv('final_csv_task1.csv', usecols=['comp_date',\n",
    "                                             'product_id',\n",
    "                                             'seller_id',\n",
    "                                             'min',\n",
    "                                             'price',\n",
    "                                             'max' ,\n",
    "                                             'difference'])\n",
    "enc = LabelEncoder()\n",
    "df['enc_comp_date'] = enc.fit_transform(df['comp_date'])\n",
    "df[\"comp_date\"] =  pd.to_datetime(df[\"comp_date\"], format = \"%Y/%m/%d\")\n",
    "df[\"quarter\"] = df.comp_date.dt.quarter"
   ]
  },
  {
   "cell_type": "code",
   "execution_count": 15,
   "id": "a4f08627",
   "metadata": {
    "pycharm": {
     "name": "#%%\n"
    }
   },
   "outputs": [
    {
     "name": "stdout",
     "output_type": "stream",
     "text": [
      "What's the product id you want to investigate? (Please provide eg. 110064) 110064\n",
      "Which quarter you want to investigate? (Please provide 1, 2, 3 or 4) 1\n"
     ]
    }
   ],
   "source": [
    "product_id_input = int(input(\"What's the product id you want to investigate? (Please provide eg. 110064) \"))\n",
    "quarter_input = int(input(\"Which quarter you want to investigate? (Please provide 1, 2, 3 or 4) \"))"
   ]
  },
  {
   "cell_type": "code",
   "execution_count": 16,
   "id": "6b2e4529",
   "metadata": {
    "pycharm": {
     "name": "#%%\n"
    }
   },
   "outputs": [],
   "source": [
    "def pivot(product_id, quarter):\n",
    "    df_1 = df[(df.product_id == product_id) & (df.quarter == quarter)]\n",
    "    table = pd.pivot_table(df_1, values='price', index=['comp_date'], columns=['seller_id'])\n",
    "    table.fillna(method='ffill', inplace=True)\n",
    "    return table\n",
    "\n",
    "dfp = pivot(product_id_input, quarter_input)"
   ]
  },
  {
   "cell_type": "markdown",
   "id": "bb493d16",
   "metadata": {},
   "source": [
    "# Pricing Automation Detection"
   ]
  },
  {
   "cell_type": "code",
   "execution_count": 17,
   "id": "3bd27214",
   "metadata": {},
   "outputs": [],
   "source": [
    "# Pre-processing\n",
    "dfp.reset_index('comp_date', drop = True, inplace = True)\n",
    "dfp.fillna(\"null\", inplace = True)"
   ]
  },
  {
   "cell_type": "code",
   "execution_count": 18,
   "id": "9bfa0a5e",
   "metadata": {},
   "outputs": [],
   "source": [
    "# Creation of a dictionary which stores, for each sellers, the days in which they changed the price \n",
    "dizionario = dict()\n",
    "\n",
    "for sell in dfp:\n",
    "    \n",
    "    # Each seller is associated with a list\n",
    "    lista_seller = []\n",
    "    \n",
    "    # Iterate over the dataset's lenght\n",
    "    for i in range(1, len(dfp)):\n",
    "        \n",
    "        # If the price changed compared to the previous day and if its value is not null:\n",
    "        if dfp.loc[i, sell] != dfp.loc[i-1, sell] and (dfp.loc[i, sell] and dfp.loc[i-1, sell]) != 'null':\n",
    "            \n",
    "            # Append the day the price changed to the list associated to the seller\n",
    "            lista_seller.append(i)\n",
    "            \n",
    "    # Set sellers as dictionary keys and lists of days as dictionary values       \n",
    "    dizionario[sell] = lista_seller"
   ]
  },
  {
   "cell_type": "code",
   "execution_count": 10,
   "id": "3cc6aa31",
   "metadata": {
    "pycharm": {
     "name": "#%%\n"
    }
   },
   "outputs": [],
   "source": [
    "dict_all = dict()\n",
    "\n",
    "# For each seller (i)\n",
    "for i in dizionario:\n",
    "    \n",
    "    # If it changed the price at least once, create a dictionary\n",
    "    if len(dizionario[i]) != 0:\n",
    "        dict_diff = dict()\n",
    "        \n",
    "        # For each seller (j)\n",
    "        for j in dizionario: \n",
    "            \n",
    "            # If it is different from the first one\n",
    "            if j != i:\n",
    "                \n",
    "                # And if it changed the price at least once, create a list \n",
    "                if len(dizionario[j]) != 0:\n",
    "                    lista_diff = []\n",
    "                    \n",
    "                    # For each day in which seller i changed its price\n",
    "                    for elem_1 in range(len(dizionario[i])):\n",
    "                        \n",
    "                        # Create a temporary list that only contains the days when seller j \n",
    "                        # changed price that are earlier than the considered day of seller i \n",
    "                        list_temp = [item for item in dizionario[j] if item <= dizionario[i][elem_1]]\n",
    "                        \n",
    "                        # If there are earlier days in which seller j changed its price\n",
    "                        if len(list_temp) != 0:\n",
    "                            \n",
    "                            # Compute the difference between the day in which seller i changed its price and \n",
    "                            # the most recent day in which seller j changed its price and append it to lista_diff\n",
    "                            diff = dizionario[i][elem_1] - max(list_temp)\n",
    "                            lista_diff.append(diff)\n",
    "                            \n",
    "                        # If there are no earlier days in which seller j changed its price,\n",
    "                        # append 'no recent date' to the list\n",
    "                        else: lista_diff.append('no recent date')\n",
    "                        \n",
    "                        # Set sellers as dictionary keys and time lags as dictionary values\n",
    "                        dict_diff[j] = lista_diff\n",
    "        \n",
    "        # Creation of a nested dictionary where sellers are keys and the dictionaries created above are values \n",
    "        dict_all[i] = dict_diff\n",
    "\n",
    "        \n",
    "        \n",
    "# Creation of a dataframe in which sellers present in the dictionary are set as columns and rows index\n",
    "df = pd.DataFrame(0, index=list(dict_all.keys()), columns=list(dict_all.keys()))\n",
    "\n",
    "# Each cell is filled with the standard deviation of the list containing \n",
    "# the time lag between the price change of two sellers.\n",
    "# The idea is that if the time interval is constant over time, its standard deviation should be low.\n",
    "\n",
    "for col in df.columns:\n",
    "    for key1,v1 in dict_all.items():\n",
    "        if col != key1:\n",
    "            for key2,v2 in v1.items():\n",
    "                st_dv = st.stdev([x for x in v2 if isinstance(x, numbers.Number)])\n",
    "                \n",
    "                # If time lags' standard deviation is less or equal to 1, the cell is filled with lable \"A\"\n",
    "                if st_dv <= 1:\n",
    "                    st_dv = 'A'\n",
    "                    \n",
    "                    # Otherwhise, it is filled with lable \"B\"\n",
    "                else:\n",
    "                    st_dv = 'B'\n",
    "                df.loc[key1, key2] = st_dv\n",
    "                \n",
    "# INTERPRETATION: the seller corresponding to the column index sets a new price after always the same time lag \n",
    "# with respect to the seller corresponding to the row index if their intersection is labled with \"A\"."
   ]
  }
 ],
 "metadata": {
  "kernelspec": {
   "display_name": "Python 3 (ipykernel)",
   "language": "python",
   "name": "python3"
  },
  "language_info": {
   "codemirror_mode": {
    "name": "ipython",
    "version": 3
   },
   "file_extension": ".py",
   "mimetype": "text/x-python",
   "name": "python",
   "nbconvert_exporter": "python",
   "pygments_lexer": "ipython3",
   "version": "3.10.0"
  }
 },
 "nbformat": 4,
 "nbformat_minor": 5
}
