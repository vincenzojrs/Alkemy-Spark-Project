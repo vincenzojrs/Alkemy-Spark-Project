{
 "cells": [
  {
   "cell_type": "markdown",
   "id": "bb493d16",
   "metadata": {},
   "source": [
    "# Pricing Automation Detection"
   ]
  },
  {
   "cell_type": "code",
   "execution_count": 1,
   "id": "130c9ad9",
   "metadata": {},
   "outputs": [],
   "source": [
    "from sklearn.preprocessing import LabelEncoder\n",
    "import matplotlib.pyplot as plt\n",
    "import numpy as np\n",
    "import pandas as pd\n",
    "import plotly.express as px\n",
    "import plotly.graph_objects as go\n",
    "from statsmodels.tsa.stattools import coint\n",
    "from statsmodels.tsa.stattools import grangercausalitytests\n",
    "import numbers\n",
    "import statistics as st\n",
    "\n",
    "\n",
    "df = pd.read_csv('final_csv_task1.csv', usecols=['comp_date',\n",
    "                                                 'product_id',\n",
    "                                                 'seller_id',\n",
    "                                                 'min',\n",
    "                                                 'price',\n",
    "                                                 'max' ,\n",
    "                                                 'difference'])\n",
    "\n",
    "enc = LabelEncoder()\n",
    "df['enc_comp_date'] = enc.fit_transform(df['comp_date'])\n",
    "\n",
    "df[\"comp_date\"] =  pd.to_datetime(df[\"comp_date\"], format = \"%Y/%m/%d\")\n",
    "df[\"quarter\"] = df.comp_date.dt.quarter\n",
    "\n",
    "def pivot(product_id, quarter):\n",
    "    df_1 = df[(df.product_id == product_id) & (df.quarter == quarter)]\n",
    "    table = pd.pivot_table(df_1, values='price', index=['comp_date'], columns=['seller_id'])\n",
    "    table.fillna(method='ffill', inplace=True)\n",
    "    return table\n",
    "\n",
    "dfp = pivot(110064, 1)"
   ]
  },
  {
   "cell_type": "code",
   "execution_count": 2,
   "id": "3bd27214",
   "metadata": {},
   "outputs": [],
   "source": [
    "dfp.reset_index('comp_date', drop = True, inplace = True)"
   ]
  },
  {
   "cell_type": "code",
   "execution_count": 3,
   "id": "302c252c",
   "metadata": {},
   "outputs": [],
   "source": [
    "dfp.fillna(\"null\", inplace = True)"
   ]
  },
  {
   "cell_type": "code",
   "execution_count": 4,
   "id": "9bfa0a5e",
   "metadata": {},
   "outputs": [],
   "source": [
    "dizionario = dict()\n",
    "\n",
    "for sell in dfp:\n",
    "    lista_seller = []\n",
    "    for i in range(1, len(dfp)):\n",
    "\n",
    "        if dfp.loc[i, sell] != dfp.loc[i-1, sell] and (dfp.loc[i, sell] and dfp.loc[i-1, sell]) != 'null':\n",
    "            lista_seller.append(i)\n",
    "    dizionario[sell] = lista_seller"
   ]
  },
  {
   "cell_type": "code",
   "execution_count": 5,
   "id": "ae5bedbd",
   "metadata": {},
   "outputs": [
    {
     "name": "stdout",
     "output_type": "stream",
     "text": [
      "23 []\n",
      "24 [7, 13, 14, 17, 26, 27, 28, 31, 32, 33, 35, 39, 41, 48, 52, 55, 57, 59, 60, 61, 62, 66, 70, 71, 73, 77, 84, 87]\n",
      "26 [10, 13, 21, 24, 25, 26, 31, 32, 39, 41, 42, 49, 52, 57, 59, 60, 63, 66, 68, 69, 70, 71, 73, 75, 76, 80, 81, 87]\n",
      "41 [26, 27, 28, 29, 30, 31, 33, 34, 35, 36, 37, 42, 43, 47, 48, 50, 52, 53, 56, 57, 61, 62]\n",
      "48 [31, 32, 59, 60, 75, 76, 77, 87]\n",
      "180 [6, 7, 33, 34, 35, 36, 37, 38, 40, 43, 44, 47, 48, 50, 51, 52, 53, 54, 56, 57, 58, 59, 62, 63, 88, 89]\n",
      "407 [12, 15, 17, 18, 19, 20, 26, 36, 37, 49, 62, 63, 88]\n",
      "490 []\n"
     ]
    }
   ],
   "source": [
    "for i in dizionario:\n",
    "    print(i, dizionario[i])"
   ]
  },
  {
   "cell_type": "code",
   "execution_count": 6,
   "id": "3cc6aa31",
   "metadata": {},
   "outputs": [],
   "source": [
    "dict_all = dict()\n",
    "\n",
    "for i in dizionario:\n",
    "    if len(dizionario[i]) != 0:\n",
    "        dict_diff = dict()\n",
    "        \n",
    "        for j in dizionario: \n",
    "            if j != i:\n",
    "                if len(dizionario[j]) != 0:\n",
    "                    lista_diff = []\n",
    "                    for elem_1 in range(len(dizionario[i])):\n",
    "                        list_temp = [item for item in dizionario[j] if item <= dizionario[i][elem_1]]\n",
    "                        if len(list_temp) != 0:\n",
    "                            diff = dizionario[i][elem_1] - max(list_temp)\n",
    "                            lista_diff.append(diff)\n",
    "                        else: lista_diff.append('no recent date')\n",
    "                        \n",
    "                        dict_diff[j] = lista_diff\n",
    "        dict_all[i] = dict_diff"
   ]
  },
  {
   "cell_type": "code",
   "execution_count": 7,
   "id": "5c06edac",
   "metadata": {
    "scrolled": true
   },
   "outputs": [
    {
     "name": "stdout",
     "output_type": "stream",
     "text": [
      "24 {26: ['no recent date', 0, 1, 4, 0, 1, 2, 0, 0, 1, 3, 0, 0, 6, 0, 3, 0, 0, 0, 1, 2, 0, 0, 0, 0, 1, 3, 0], 41: ['no recent date', 'no recent date', 'no recent date', 'no recent date', 0, 0, 0, 0, 1, 0, 0, 2, 4, 0, 0, 2, 0, 2, 3, 0, 0, 4, 8, 9, 11, 15, 22, 25], 48: ['no recent date', 'no recent date', 'no recent date', 'no recent date', 'no recent date', 'no recent date', 'no recent date', 0, 0, 1, 3, 7, 9, 16, 20, 23, 25, 0, 0, 1, 2, 6, 10, 11, 13, 0, 7, 0], 180: [0, 6, 7, 10, 19, 20, 21, 24, 25, 0, 0, 1, 1, 0, 0, 1, 0, 0, 1, 2, 0, 3, 7, 8, 10, 14, 21, 24], 407: ['no recent date', 1, 2, 0, 0, 1, 2, 5, 6, 7, 9, 2, 4, 11, 3, 6, 8, 10, 11, 12, 0, 3, 7, 8, 10, 14, 21, 24]}\n",
      "26 {24: [3, 0, 4, 7, 8, 0, 0, 0, 0, 0, 1, 1, 0, 0, 0, 0, 1, 0, 2, 3, 0, 0, 0, 2, 3, 3, 4, 0], 41: ['no recent date', 'no recent date', 'no recent date', 'no recent date', 'no recent date', 0, 0, 1, 2, 4, 0, 1, 0, 0, 2, 3, 1, 4, 6, 7, 8, 9, 11, 13, 14, 18, 19, 25], 48: ['no recent date', 'no recent date', 'no recent date', 'no recent date', 'no recent date', 'no recent date', 0, 0, 7, 9, 10, 17, 20, 25, 0, 0, 3, 6, 8, 9, 10, 11, 13, 0, 0, 3, 4, 0], 180: [3, 6, 14, 17, 18, 19, 24, 25, 1, 1, 2, 1, 0, 0, 0, 1, 0, 3, 5, 6, 7, 8, 10, 12, 13, 17, 18, 24], 407: ['no recent date', 1, 1, 4, 5, 0, 5, 6, 2, 4, 5, 0, 3, 8, 10, 11, 0, 3, 5, 6, 7, 8, 10, 12, 13, 17, 18, 24]}\n",
      "41 {24: [0, 0, 0, 1, 2, 0, 0, 1, 0, 1, 2, 1, 2, 6, 0, 2, 0, 1, 1, 0, 0, 0], 26: [0, 1, 2, 3, 4, 0, 1, 2, 3, 4, 5, 0, 1, 5, 6, 1, 0, 1, 4, 0, 1, 2], 48: ['no recent date', 'no recent date', 'no recent date', 'no recent date', 'no recent date', 0, 1, 2, 3, 4, 5, 10, 11, 15, 16, 18, 20, 21, 24, 25, 1, 2], 180: [19, 20, 21, 22, 23, 24, 0, 0, 0, 0, 0, 2, 0, 0, 0, 0, 0, 0, 0, 0, 2, 0], 407: [0, 1, 2, 3, 4, 5, 7, 8, 9, 0, 0, 5, 6, 10, 11, 1, 3, 4, 7, 8, 12, 0]}\n",
      "48 {24: [0, 0, 0, 0, 2, 3, 0, 0], 26: [0, 0, 0, 0, 0, 0, 1, 0], 41: [0, 1, 2, 3, 13, 14, 15, 25], 180: [24, 25, 0, 1, 12, 13, 14, 24], 407: [5, 6, 10, 11, 12, 13, 14, 24]}\n",
      "180 {24: ['no recent date', 0, 0, 1, 0, 1, 2, 3, 1, 2, 3, 6, 0, 2, 3, 0, 1, 2, 1, 0, 1, 0, 0, 1, 1, 2], 26: ['no recent date', 'no recent date', 1, 2, 3, 4, 5, 6, 1, 1, 2, 5, 6, 1, 2, 0, 1, 2, 4, 0, 1, 0, 2, 0, 1, 2], 41: ['no recent date', 'no recent date', 0, 0, 0, 0, 0, 1, 3, 0, 1, 0, 0, 0, 1, 0, 0, 1, 0, 0, 1, 2, 0, 1, 26, 27], 48: ['no recent date', 'no recent date', 1, 2, 3, 4, 5, 6, 8, 11, 12, 15, 16, 18, 19, 20, 21, 22, 24, 25, 26, 0, 2, 3, 1, 2], 407: ['no recent date', 'no recent date', 7, 8, 9, 0, 0, 1, 3, 6, 7, 10, 11, 1, 2, 3, 4, 5, 7, 8, 9, 10, 0, 0, 0, 1]}\n",
      "407 {24: [5, 1, 0, 1, 2, 3, 0, 1, 2, 1, 0, 1, 1], 26: [2, 2, 4, 5, 6, 7, 0, 4, 5, 0, 2, 0, 1], 41: ['no recent date', 'no recent date', 'no recent date', 'no recent date', 'no recent date', 'no recent date', 0, 0, 0, 1, 0, 1, 26], 48: ['no recent date', 'no recent date', 'no recent date', 'no recent date', 'no recent date', 'no recent date', 'no recent date', 4, 5, 17, 2, 3, 1], 180: [5, 8, 10, 11, 12, 13, 19, 0, 0, 1, 0, 0, 0]}\n"
     ]
    }
   ],
   "source": [
    "for i in dict_all:\n",
    "    print(i, dict_all[i])"
   ]
  },
  {
   "cell_type": "code",
   "execution_count": 8,
   "id": "b8adb6fc",
   "metadata": {},
   "outputs": [],
   "source": [
    "df = pd.DataFrame(0, index=list(dizionario.keys()), columns=list(dizionario.keys()))\n",
    "\n",
    "for col in df.columns:\n",
    "    for key1,v1 in dict_all.items():\n",
    "        if col != key1:\n",
    "            for key2,v2 in v1.items():\n",
    "                st_dv = st.stdev([x for x in v2 if isinstance(x, numbers.Number)])\n",
    "                df.loc[key1, key2] = st_dv"
   ]
  },
  {
   "cell_type": "code",
   "execution_count": 9,
   "id": "bca6a1b9",
   "metadata": {},
   "outputs": [
    {
     "data": {
      "text/html": [
       "<div>\n",
       "<style scoped>\n",
       "    .dataframe tbody tr th:only-of-type {\n",
       "        vertical-align: middle;\n",
       "    }\n",
       "\n",
       "    .dataframe tbody tr th {\n",
       "        vertical-align: top;\n",
       "    }\n",
       "\n",
       "    .dataframe thead th {\n",
       "        text-align: right;\n",
       "    }\n",
       "</style>\n",
       "<table border=\"1\" class=\"dataframe\">\n",
       "  <thead>\n",
       "    <tr style=\"text-align: right;\">\n",
       "      <th></th>\n",
       "      <th>23</th>\n",
       "      <th>24</th>\n",
       "      <th>26</th>\n",
       "      <th>41</th>\n",
       "      <th>48</th>\n",
       "      <th>180</th>\n",
       "      <th>407</th>\n",
       "      <th>490</th>\n",
       "    </tr>\n",
       "  </thead>\n",
       "  <tbody>\n",
       "    <tr>\n",
       "      <th>23</th>\n",
       "      <td>0</td>\n",
       "      <td>0.000000</td>\n",
       "      <td>0.000000</td>\n",
       "      <td>0.000000</td>\n",
       "      <td>0.000000</td>\n",
       "      <td>0.000000</td>\n",
       "      <td>0.000000</td>\n",
       "      <td>0</td>\n",
       "    </tr>\n",
       "    <tr>\n",
       "      <th>24</th>\n",
       "      <td>0</td>\n",
       "      <td>0.000000</td>\n",
       "      <td>1.556166</td>\n",
       "      <td>7.126192</td>\n",
       "      <td>8.064325</td>\n",
       "      <td>9.073699</td>\n",
       "      <td>6.063294</td>\n",
       "      <td>0</td>\n",
       "    </tr>\n",
       "    <tr>\n",
       "      <th>26</th>\n",
       "      <td>0</td>\n",
       "      <td>2.185813</td>\n",
       "      <td>0.000000</td>\n",
       "      <td>7.153042</td>\n",
       "      <td>7.094446</td>\n",
       "      <td>8.359245</td>\n",
       "      <td>5.945143</td>\n",
       "      <td>0</td>\n",
       "    </tr>\n",
       "    <tr>\n",
       "      <th>41</th>\n",
       "      <td>0</td>\n",
       "      <td>1.376991</td>\n",
       "      <td>1.874874</td>\n",
       "      <td>0.000000</td>\n",
       "      <td>8.889022</td>\n",
       "      <td>9.746683</td>\n",
       "      <td>3.800205</td>\n",
       "      <td>0</td>\n",
       "    </tr>\n",
       "    <tr>\n",
       "      <th>48</th>\n",
       "      <td>0</td>\n",
       "      <td>1.187735</td>\n",
       "      <td>0.353553</td>\n",
       "      <td>8.967202</td>\n",
       "      <td>0.000000</td>\n",
       "      <td>9.934608</td>\n",
       "      <td>5.841661</td>\n",
       "      <td>0</td>\n",
       "    </tr>\n",
       "    <tr>\n",
       "      <th>180</th>\n",
       "      <td>0</td>\n",
       "      <td>1.405940</td>\n",
       "      <td>1.880487</td>\n",
       "      <td>7.381921</td>\n",
       "      <td>8.987511</td>\n",
       "      <td>0.000000</td>\n",
       "      <td>3.829708</td>\n",
       "      <td>0</td>\n",
       "    </tr>\n",
       "    <tr>\n",
       "      <th>407</th>\n",
       "      <td>0</td>\n",
       "      <td>1.386750</td>\n",
       "      <td>2.396579</td>\n",
       "      <td>9.712535</td>\n",
       "      <td>5.887841</td>\n",
       "      <td>6.486673</td>\n",
       "      <td>0.000000</td>\n",
       "      <td>0</td>\n",
       "    </tr>\n",
       "    <tr>\n",
       "      <th>490</th>\n",
       "      <td>0</td>\n",
       "      <td>0.000000</td>\n",
       "      <td>0.000000</td>\n",
       "      <td>0.000000</td>\n",
       "      <td>0.000000</td>\n",
       "      <td>0.000000</td>\n",
       "      <td>0.000000</td>\n",
       "      <td>0</td>\n",
       "    </tr>\n",
       "  </tbody>\n",
       "</table>\n",
       "</div>"
      ],
      "text/plain": [
       "     23        24        26        41        48        180       407  490\n",
       "23     0  0.000000  0.000000  0.000000  0.000000  0.000000  0.000000    0\n",
       "24     0  0.000000  1.556166  7.126192  8.064325  9.073699  6.063294    0\n",
       "26     0  2.185813  0.000000  7.153042  7.094446  8.359245  5.945143    0\n",
       "41     0  1.376991  1.874874  0.000000  8.889022  9.746683  3.800205    0\n",
       "48     0  1.187735  0.353553  8.967202  0.000000  9.934608  5.841661    0\n",
       "180    0  1.405940  1.880487  7.381921  8.987511  0.000000  3.829708    0\n",
       "407    0  1.386750  2.396579  9.712535  5.887841  6.486673  0.000000    0\n",
       "490    0  0.000000  0.000000  0.000000  0.000000  0.000000  0.000000    0"
      ]
     },
     "execution_count": 9,
     "metadata": {},
     "output_type": "execute_result"
    }
   ],
   "source": [
    "df"
   ]
  }
 ],
 "metadata": {
  "kernelspec": {
   "display_name": "Python 3 (ipykernel)",
   "language": "python",
   "name": "python3"
  },
  "language_info": {
   "codemirror_mode": {
    "name": "ipython",
    "version": 3
   },
   "file_extension": ".py",
   "mimetype": "text/x-python",
   "name": "python",
   "nbconvert_exporter": "python",
   "pygments_lexer": "ipython3",
   "version": "3.10.0"
  }
 },
 "nbformat": 4,
 "nbformat_minor": 5
}
